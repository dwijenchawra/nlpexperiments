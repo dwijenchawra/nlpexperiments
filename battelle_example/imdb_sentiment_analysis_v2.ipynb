{
 "cells": [
  {
   "cell_type": "markdown",
   "metadata": {},
   "source": [
    "# IMDB Sentiment Analysis - XGBoost & SVM\n",
    "\n",
    "In this lab, we will be revisiting the IMDB Movie Review Dataset for a more in-depth analysis and to test more complicated models. This dataset consists of 50K movie reviews that are labeled as positive or negative based on their sentiment toward a film. This week, we will focus on using SVM and XGBoost for the classification task. Similar to the first iteration with this task, this notebook will guide you through 4 main steps:\n",
    "\n",
    "1. Text Preprocessing\n",
    "2. Feature Engineering\n",
    "3. Model Fitting\n",
    "4. Hyper-Parameter Tuning"
   ]
  },
  {
   "cell_type": "code",
   "execution_count": 69,
   "metadata": {},
   "outputs": [],
   "source": [
    "import os\n",
    "import re\n",
    "\n",
    "import pandas as pd\n",
    "import nltk\n",
    "# nltk.download('punkt')\n",
    "# nltk.download('stopwords')\n",
    "# nltk.download('wordnet')\n",
    "from nltk.tokenize import word_tokenize, wordpunct_tokenize\n",
    "from nltk.corpus import stopwords\n",
    "from nltk.stem import WordNetLemmatizer\n",
    "from string import punctuation\n",
    "from sklearn.feature_extraction.text import CountVectorizer, TfidfVectorizer\n",
    "from sklearn.svm import SVC, LinearSVC\n",
    "from sklearn.ensemble import RandomForestClassifier\n",
    "from sklearn.model_selection import train_test_split, GridSearchCV\n",
    "from sklearn.metrics import precision_score, recall_score, f1_score, confusion_matrix, ConfusionMatrixDisplay\n",
    "from tqdm import tqdm"
   ]
  },
  {
   "cell_type": "markdown",
   "metadata": {},
   "source": [
    "## 1. Text Preprocessing\n",
    "\n",
    "The first step to this process will be loading the data. The data can be found [here](https://www.kaggle.com/datasets/lakshmi25npathi/imdb-dataset-of-50k-movie-reviews?resource=download). Please download the data from this page which will produce a zip folder. Upon unzipping the folder, a file entitled \"IMDB Dataset.csv\" will be produced. Create a folder to hold data used in this course and place the \"IMDB Dataset.csv\" file in it. Next make sure that every package in the imports below is installed. The \"nltk.download()\" lines only need to be ran once. So comment them out with a # at the beginning of the line after the downloads have been completed.\n",
    "\n",
    "In the following cell, set the **data_path** variable equal to the path of the \"IMDB Dataset.csv\" file."
   ]
  },
  {
   "cell_type": "code",
   "execution_count": 70,
   "metadata": {},
   "outputs": [],
   "source": [
    "data_path = \"/home/x-dchawra/nlpexperiments/battelle_example/IMDB Dataset.csv.zip\"\n"
   ]
  },
  {
   "cell_type": "markdown",
   "metadata": {},
   "source": [
    "### Normalization and Cleaning\n",
    "\n",
    "In the next two cells, the data will be loaded, cleaned, and normalized. This will include:\n",
    "\n",
    "1. Removing HTML chunks\n",
    "2. Transforming text to lower case\n",
    "3. Tokenizing text\n",
    "4. Removing Stop Words and punctuation\n",
    "5. Lemmatizing Words"
   ]
  },
  {
   "cell_type": "code",
   "execution_count": 71,
   "metadata": {},
   "outputs": [],
   "source": [
    "data = pd.read_csv(data_path)\n",
    "data.columns = ['text', 'label']\n",
    "data['label'] = data.label.map({'negative': 0, 'positive': 1})\n",
    "\n",
    "wnl = WordNetLemmatizer()\n",
    "stop_words = set(stopwords.words('english'))\n",
    "punct_remover = str.maketrans('', '', punctuation)\n",
    "\n",
    "def preprocess_text(text):\n",
    "    text = re.sub('<.*?>', '', text)\n",
    "    tokens = wordpunct_tokenize(text.lower())\n",
    "    tokens = [i.translate(punct_remover) for i in tokens]\n",
    "    tokens = [i for i in tokens if i not in stop_words]\n",
    "    tokens = [wnl.lemmatize(i) for i in tokens]\n",
    "    text = \" \".join(tokens)\n",
    "    \n",
    "    return text"
   ]
  },
  {
   "cell_type": "code",
   "execution_count": 72,
   "metadata": {},
   "outputs": [
    {
     "name": "stderr",
     "output_type": "stream",
     "text": [
      "100%|██████████| 50000/50000 [00:26<00:00, 1869.15it/s]\n"
     ]
    },
    {
     "name": "stdout",
     "output_type": "stream",
     "text": [
      "Average Number of Tokens per Review: 120\n"
     ]
    }
   ],
   "source": [
    "text_data = []\n",
    "for i in tqdm(data.text):\n",
    "    text_data.append(preprocess_text(i))\n",
    "data['text'] = text_data\n",
    "\n",
    "avg_tokens = sum([len(i.split()) for i in data.text]) / len(data.text)\n",
    "print(f\"Average Number of Tokens per Review: {round(avg_tokens)}\")"
   ]
  },
  {
   "cell_type": "markdown",
   "metadata": {},
   "source": [
    "## 2. Feature Engineering\n",
    "\n",
    "In this step, we will work through generating a vector representation of each review in the corpus. There are two feature representations that we will be testing during this step: Bag-of-Words and TFIDF. For each review, the Bag-of-Words representation will generate a vector that is the size of the corpus vocabulary, where each element in the vector will correspond to the number of occurrences of a specific token in the review. To generate these representations, we will be using the CountVectorizer object from scikit-learn; the documentation can be found [here](https://scikit-learn.org/stable/modules/generated/sklearn.feature_extraction.text.CountVectorizer.html?highlight=countvectorizer#sklearn.feature_extraction.text.CountVectorizer). On the other hand, the TFIDF method will also yield a vector equal to the size of the corpus vocabulary, but, instead of token counts, each element will correspond to the Term Frequency Inverse Document Frequency (TFIDF) of the specific token. This value is equal to the frequency of the term in the document multiplied by the inverse of how often the term occurs in all documents. The exact formula can be shown below:\n",
    "\n",
    "$TDIDF(t, d) = TF(t, d) * \\log{[\\frac{n}{(DF(t) + 1)}]}$\n",
    "\n",
    "In short, this metric gives a higher score for terms that are frequent in a document and then down scores terms that are common across all documents. To create this feature representation, we will be using the TfidfVectorizer object from scikit-learn; documentation can be found [here](https://scikit-learn.org/stable/modules/generated/sklearn.feature_extraction.text.TfidfVectorizer.html#sklearn.feature_extraction.text.TfidfVectorizer). Similar to last week, there are a few variables that can be tuned here, using either Bag-of-Words or TFIDF:\n",
    "\n",
    "* ngram_min - Minimum size of ngrams to use. Acceptable values are integers greater than or equal to 1\n",
    "* ngram_max - Maximum size of ngrams to use. Acceptable values are integers greater than or equal to 1\n",
    "* min_df - Minimum document frequency to be included in model. Acceptable values are integers greater than or equal to 1 to denote the raw count or float values in [0.0, 1.0] to denote percent frequency\n",
    "* max_df - Minimum document frequency to be included in model. Same acceptable values as min_df\n",
    "\n",
    "**Experiment:** Try different ngram ranges and frequency thresholds (min and max) for both the Bag-of-Words and TfIdf methods. Observe and note the changes in test performance, and model training time, as these parameters are changed."
   ]
  },
  {
   "cell_type": "code",
   "execution_count": 73,
   "metadata": {},
   "outputs": [],
   "source": [
    "def generate_features(data, test_size=0.2, feature_type='bow', ngram_min=1, ngram_max=1, min_df=1, max_df=1.0):\n",
    "    \"\"\"\n",
    "    Function to generate features for train and test data\n",
    "\n",
    "    Parameters\n",
    "    ----------\n",
    "    data - Dataframe with columns 'text' and 'label'\n",
    "    test_size - Proportion of data that will be held out for evaluation\n",
    "    feature_type - Type of features to use as represenation. Options are 'bow' or 'tfidf'\n",
    "    max_df - When building the vocabulary ignore terms that have a document frequency strictly\n",
    "             higher than the given threshold (corpus-specific stop words). If float, the parameter\n",
    "             represents a proportion of documents, integer absolute counts. This parameter is ignored\n",
    "             if vocabulary is not None.\n",
    "    min_df - When building the vocabulary ignore terms that have a document frequency strictly lower than\n",
    "            the given threshold. If float, the parameter represents a proportion of documents, integer\n",
    "            absolute counts. This parameter is ignored if vocabulary is not None.\n",
    "\n",
    "    Returns\n",
    "    -------\n",
    "    x_train - Input features for the train set\n",
    "    y_train - Labels for the train set\n",
    "    x_test - Input features for the test set\n",
    "    y_test - Labels for the test set\n",
    "    \"\"\"\n",
    "\n",
    "    # Split data into Train and Test\n",
    "    train_df, test_df = train_test_split(data, test_size=0.2)\n",
    "\n",
    "    # Instantiate Object to generate feature representations\n",
    "    if feature_type == 'bow':\n",
    "        vectorizer = CountVectorizer(ngram_range=(ngram_min, ngram_max), min_df=min_df, max_df=max_df)\n",
    "    elif feature_type == 'tfidf':\n",
    "        vectorizer = TfidfVectorizer(ngram_range=(ngram_min, ngram_max), min_df=min_df, max_df=max_df)\n",
    "    else:\n",
    "        raise ValueError(\"feature_type must be set to either 'bow' or 'tfidf'.\")\n",
    "    \n",
    "    # Generate features for train and test set\n",
    "    x_train = vectorizer.fit_transform(train_df.text)\n",
    "    x_test = vectorizer.transform(test_df.text)\n",
    "    y_train = train_df.label.values\n",
    "    y_test = test_df.label.values\n",
    "\n",
    "    return x_train, y_train, x_test, y_test"
   ]
  },
  {
   "cell_type": "code",
   "execution_count": 74,
   "metadata": {},
   "outputs": [],
   "source": [
    "feature_type='bow'\n",
    "ngram_min=1\n",
    "ngram_max=1\n",
    "min_df=40\n",
    "max_df=1.0\n",
    "\n",
    "x_train, y_train, x_test, y_test = generate_features(\n",
    "    data, feature_type=feature_type, ngram_min=ngram_min, ngram_max=ngram_max, min_df=min_df, max_df=max_df\n",
    "    )"
   ]
  },
  {
   "cell_type": "markdown",
   "metadata": {},
   "source": [
    "## 3. Model Fitting\n",
    "\n",
    "In this section we will be working on fitting two different models for the Sentiment Analysis task: Support Vector Machine (SVM) and Random Forest. First, I will provide code to train the models, as well as produce evaluation metrics and a confusion matrix. Note that for the confusion matrix, we want to maximize the True Negative (top left) and True Positive (bottom right) for our models. Then, I will present a challenge for the groups to work through.\n",
    "\n",
    "### SVM\n",
    "\n",
    "The support vector machine is a commonly used model that creates a decision boundary between between data points of different classes. Below are a few videos to get a general idea of how Support Vector Machines work:\n",
    "\n",
    "1. Support Vector Machine in 2 minutes: [link](https://www.youtube.com/watch?v=_YPScrckx28)\n",
    "2. Support Vector Machines Part 1 (of 3) - Main Ideas: [link](https://www.youtube.com/watch?v=efR1C6CvhmE)\n",
    "\n",
    "To train this model, we will be using the SVC (Support Vector Classifier) object from scikit-learn; documentation can be found [here](https://scikit-learn.org/stable/modules/generated/sklearn.svm.SVC.html#sklearn.svm.SVC)"
   ]
  },
  {
   "cell_type": "code",
   "execution_count": 75,
   "metadata": {},
   "outputs": [
    {
     "name": "stdout",
     "output_type": "stream",
     "text": [
      "Evaluation Metrics\n",
      "------------------\n",
      "Precision: 0.8165894906382122\n",
      "Recall: 0.822051074179165\n",
      "F1: 0.8193111806888193\n",
      "\n"
     ]
    },
    {
     "name": "stderr",
     "output_type": "stream",
     "text": [
      "c:\\Users\\GAUTHIER\\Anaconda3\\envs\\cms_37\\lib\\site-packages\\sklearn\\svm\\_base.py:947: ConvergenceWarning: Liblinear failed to converge, increase the number of iterations.\n",
      "  \"the number of iterations.\", ConvergenceWarning)\n"
     ]
    },
    {
     "data": {
      "text/plain": [
       "<sklearn.metrics._plot.confusion_matrix.ConfusionMatrixDisplay at 0x1cd252bfd88>"
      ]
     },
     "execution_count": 75,
     "metadata": {},
     "output_type": "execute_result"
    },
    {
     "data": {
      "image/png": "[encoded data removed]",
      "text/plain": [
       "<Figure size 432x288 with 2 Axes>"
      ]
     },
     "metadata": {
      "needs_background": "light"
     },
     "output_type": "display_data"
    }
   ],
   "source": [
    "# Define model parameters and train model\n",
    "svm_classifier = LinearSVC(penalty='l2', C=10, tol=1e-5, max_iter=5000)\n",
    "svm_classifier.fit(x_train, y_train)\n",
    "\n",
    "# Score Model\n",
    "svm_score = svm_classifier.score(x_test, y_test)\n",
    "test_pred = svm_classifier.predict(x_test)\n",
    "test_prec = precision_score(y_test, test_pred)\n",
    "test_recall = recall_score(y_test, test_pred)\n",
    "test_f1 = f1_score(y_test, test_pred)\n",
    "\n",
    "print(\"Evaluation Metrics\")\n",
    "print('-' * 18)\n",
    "print(f\"Precision: {test_prec}\")\n",
    "print(f\"Recall: {test_recall}\")\n",
    "print(f\"F1: {test_f1}\")\n",
    "print()\n",
    "\n",
    "# Generate confusion matrix\n",
    "conf_matrix = confusion_matrix(y_test, test_pred, normalize='true')\n",
    "ConfusionMatrixDisplay(conf_matrix, display_labels=[0, 1]).plot()"
   ]
  },
  {
   "cell_type": "markdown",
   "metadata": {},
   "source": [
    "### Random Forest\n",
    "\n",
    "The next model that we will be using is the Random Forest. This algorithm is based on decision trees. Before testing with this model, please watch the two videos below to gain an understanding of how this algorithm works.\n",
    "\n",
    "1. Decision Tree Classification Clearly Explained: [link](https://www.youtube.com/watch?v=ZVR2Way4nwQ)\n",
    "2. Random Forest Algorithm Clearly Explained: [link](https://www.youtube.com/watch?v=v6VJ2RO66Ag)\n",
    "\n",
    "To train this model, we will be using the RandomForestClassifier object from scikit-learn; documentation can be found [here](https://scikit-learn.org/stable/modules/generated/sklearn.ensemble.RandomForestClassifier.html?highlight=random+forest#sklearn.ensemble.RandomForestClassifier)"
   ]
  },
  {
   "cell_type": "code",
   "execution_count": 76,
   "metadata": {},
   "outputs": [
    {
     "name": "stdout",
     "output_type": "stream",
     "text": [
      "Evaluation Metrics\n",
      "------------------\n",
      "Precision: 0.8507128309572302\n",
      "Recall: 0.8465747871909202\n",
      "F1: 0.8486387647297847\n",
      "\n"
     ]
    },
    {
     "data": {
      "text/plain": [
       "<sklearn.metrics._plot.confusion_matrix.ConfusionMatrixDisplay at 0x1cd267a8208>"
      ]
     },
     "execution_count": 76,
     "metadata": {},
     "output_type": "execute_result"
    },
    {
     "data": {
      "image/png": "[encoded data removed]",
      "text/plain": [
       "<Figure size 432x288 with 2 Axes>"
      ]
     },
     "metadata": {
      "needs_background": "light"
     },
     "output_type": "display_data"
    }
   ],
   "source": [
    "rf_classifier = RandomForestClassifier(n_estimators=100, n_jobs=-1)\n",
    "rf_classifier.fit(x_train, y_train)\n",
    "\n",
    "# Score Model and Generate confusion matrix\n",
    "svm_score = rf_classifier.score(x_test, y_test)\n",
    "test_pred = rf_classifier.predict(x_test)\n",
    "test_prec = precision_score(y_test, test_pred)\n",
    "test_recall = recall_score(y_test, test_pred)\n",
    "test_f1 = f1_score(y_test, test_pred)\n",
    "print(\"Evaluation Metrics\")\n",
    "print('-' * 18)\n",
    "print(f\"Precision: {test_prec}\")\n",
    "print(f\"Recall: {test_recall}\")\n",
    "print(f\"F1: {test_f1}\")\n",
    "print()\n",
    "\n",
    "# Generate confusion matrix\n",
    "conf_matrix = confusion_matrix(y_test, test_pred, normalize='true')\n",
    "ConfusionMatrixDisplay(conf_matrix, display_labels=[0, 1]).plot()"
   ]
  },
  {
   "cell_type": "markdown",
   "metadata": {},
   "source": [
    "## Challenge\n",
    "\n",
    "Now, you have seen how to train and evaluate the models, and are familiar with how grid search works from the previous weeks assignment. Extra documentation for sklearn's GridSearch Algorithm can be found [here](https://scikit-learn.org/stable/modules/generated/sklearn.model_selection.GridSearchCV.html#sklearn.model_selection.GridSearchCV). This week, you will need to develop your own grid search algorithm that finds two things:\n",
    "\n",
    "1. Best feature type, ngram range, and minimum and maximum document frequencies. I suggest using the generate_features function that I have provided you. (note that ngram_min cannot be greater than ngram_max)\n",
    "2. The best set of hyper-parameters for the model. Once again, the hyper-parameters that can be used for both models can be found in the models' documentation: [Random Forest](https://scikit-learn.org/stable/modules/generated/sklearn.ensemble.RandomForestClassifier.html?highlight=random+forest#sklearn.ensemble.RandomForestClassifier) and [SVM](https://scikit-learn.org/stable/modules/generated/sklearn.svm.LinearSVC.html?highlight=linearsvc#sklearn.svm.LinearSVC).\n",
    "\n",
    "The goal of this grid search is to maximize F1, so you will need to provide the set of hyper-parameters that generates the best F1 along with it's confusion matrix for each model. Good Luck!"
   ]
  },
  {
   "cell_type": "code",
   "execution_count": null,
   "metadata": {},
   "outputs": [],
   "source": []
  }
 ],
 "metadata": {
  "kernelspec": {
   "display_name": "cms_37",
   "language": "python",
   "name": "cms_37"
  },
  "language_info": {
   "codemirror_mode": {
    "name": "ipython",
    "version": 3
   },
   "file_extension": ".py",
   "mimetype": "text/x-python",
   "name": "python",
   "nbconvert_exporter": "python",
   "pygments_lexer": "ipython3",
   "version": "3.7.9"
  },
  "orig_nbformat": 4,
  "vscode": {
   "interpreter": {
    "hash": "919ed268fe0c894662b44a46248079d9276e892e152849de2efbb243d82fb9cb"
   }
  }
 },
 "nbformat": 4,
 "nbformat_minor": 2
}
