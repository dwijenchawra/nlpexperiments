{
 "cells": [
  {
   "cell_type": "markdown",
   "metadata": {},
   "source": [
    "# IMDB Movie Reviews\n",
    "\n",
    "In this lab we will be working through a Sentiment Analysis task using the IMDB Movie Review Dataset. This dataset consists of 50K movie reviews that are labeled as either positive or negative based upon their sentiment toward a film. For this, we will be using a simple Logistic Regression model for Binary Classification. This notebook will guide you through the 4 main steps for this task:\n",
    "\n",
    "1. Text Preprocessing\n",
    "2. Feature Engineering\n",
    "3. Model Fitting\n",
    "4. Hyper-Parameter Tuning"
   ]
  },
  {
   "cell_type": "markdown",
   "metadata": {},
   "source": [
    "## 1. Text Preprocessing\n",
    "\n",
    "The first step to this process will be loading the data. The data can be found [here](https://www.kaggle.com/datasets/lakshmi25npathi/imdb-dataset-of-50k-movie-reviews?resource=download). Please download the data from this page which will produce a zip folder. Upon unzipping the folder, a file entitled \"IMDB Dataset.csv\" will be produced. Create a folder to hold data used in this course and place the \"IMDB Dataset.csv\" file in it. Next make sure that every package in the imports below is installed. The \"nltk.download()\" lines only need to be ran once. So comment them out with a # at the beginning of the line after the downloads have been completed."
   ]
  },
  {
   "cell_type": "code",
   "execution_count": 1,
   "metadata": {},
   "outputs": [
    {
     "name": "stderr",
     "output_type": "stream",
     "text": [
      "[nltk_data] Downloading package punkt to /home/x-dchawra/nltk_data...\n",
      "[nltk_data]   Package punkt is already up-to-date!\n",
      "[nltk_data] Downloading package stopwords to\n",
      "[nltk_data]     /home/x-dchawra/nltk_data...\n",
      "[nltk_data]   Unzipping corpora/stopwords.zip.\n",
      "[nltk_data] Downloading package wordnet to\n",
      "[nltk_data]     /home/x-dchawra/nltk_data...\n"
     ]
    }
   ],
   "source": [
    "import os\n",
    "import re\n",
    "\n",
    "import pandas as pd\n",
    "import nltk\n",
    "nltk.download('punkt')\n",
    "nltk.download('stopwords')\n",
    "nltk.download('wordnet')\n",
    "from nltk.tokenize import word_tokenize, wordpunct_tokenize\n",
    "from nltk.corpus import stopwords\n",
    "from nltk.stem import WordNetLemmatizer\n",
    "from string import punctuation\n",
    "from sklearn.feature_extraction.text import CountVectorizer, TfidfVectorizer\n",
    "from sklearn.linear_model import LogisticRegression\n",
    "from sklearn.model_selection import train_test_split, GridSearchCV\n",
    "from tqdm import tqdm"
   ]
  },
  {
   "cell_type": "markdown",
   "metadata": {},
   "source": [
    "In the following cell, set the **data_path** variable equal to the path of the \"IMDB Dataset.csv\" file."
   ]
  },
  {
   "cell_type": "code",
   "execution_count": 4,
   "metadata": {},
   "outputs": [],
   "source": [
    "data_path = \"/home/x-dchawra/nlpexperiments/battelle_example/IMDB Dataset.csv.zip\"\n"
   ]
  },
  {
   "cell_type": "markdown",
   "metadata": {},
   "source": [
    "### Normalization and Cleaning\n",
    "\n",
    "In the next two cells, the data will be loaded, cleaned, and normalized. This will include:\n",
    "\n",
    "1. Removing HTML chunks\n",
    "2. Transforming text to lower case\n",
    "3. Tokenizing text\n",
    "4. Removing Stop Words and punctuation\n",
    "5. Lemmatizing Words"
   ]
  },
  {
   "cell_type": "code",
   "execution_count": 5,
   "metadata": {},
   "outputs": [],
   "source": [
    "data = pd.read_csv(data_path)\n",
    "data.columns = ['text', 'label']\n",
    "data['label'] = data.label.map({'negative': 0, 'positive': 1})\n",
    "\n",
    "wnl = WordNetLemmatizer()\n",
    "stop_words = set(stopwords.words('english'))\n",
    "punct_remover = str.maketrans('', '', punctuation)\n",
    "\n",
    "def preprocess_text(text):\n",
    "    text = re.sub('<.*?>', '', text)\n",
    "    tokens = wordpunct_tokenize(text.lower())\n",
    "    tokens = [i.translate(punct_remover) for i in tokens]\n",
    "    tokens = [i for i in tokens if i not in stop_words]\n",
    "    tokens = [wnl.lemmatize(i) for i in tokens]\n",
    "    text = \" \".join(tokens)\n",
    "    \n",
    "    return text"
   ]
  },
  {
   "cell_type": "code",
   "execution_count": 6,
   "metadata": {},
   "outputs": [
    {
     "name": "stderr",
     "output_type": "stream",
     "text": [
      "100%|██████████| 50000/50000 [00:26<00:00, 1878.94it/s]\n"
     ]
    }
   ],
   "source": [
    "text_data = []\n",
    "for i in tqdm(data.text):\n",
    "    text_data.append(preprocess_text(i))\n",
    "data['text'] = text_data"
   ]
  },
  {
   "cell_type": "markdown",
   "metadata": {},
   "source": [
    "## Feature Engineering\n",
    "\n",
    "For features, we will be using a Bag-of-Words model, so each review will be represented as a vector that contains the of each word seen in the corpus that is contained in the review. We can alter the features that are generated by setting the size or range of ngrams that we use to make the vector. An ngram is the number of words per token that is used to make up a vector. For instance, if we wanted to make a bigram, or 2-gram, model, then the vector for each review would consist of the counts of each 2 word phrase. It is also possible to use a mixed-gram model which would use multiple sized ngrams.\n",
    "\n",
    "**Experiment:** Try different sizes and ranges of ngrams and different thresholds for minimum and maximum frequency for feature generate. Observe and note the effects on training time and performance on the test set. The exact variables in question are ngram_min, ngram_max, min_df, and max_df. Please refer to the documentation of CountVectorizer [here](https://scikit-learn.org/stable/modules/generated/sklearn.feature_extraction.text.CountVectorizer.html?highlight=countvectorizer#sklearn.feature_extraction.text.CountVectorizer) to determine acceptable values. In short, the 4 values that can be tuned are:\n",
    "\n",
    "* ngram_min - Minimum size of ngrams to use. Acceptable values are integers greater than or equal to 1\n",
    "* ngram_max - Maximum size of ngrams to use. Acceptable values are integers greater than or equal to 1\n",
    "* min_df - Minimum document frequency to be included in model. Acceptable values are integers greater than or equal to 1 to denote the raw count or float values in [0.0, 1.0] to denote percent frequency\n",
    "* max_df - Minimum document frequency to be included in model. Same acceptable values as min_df"
   ]
  },
  {
   "cell_type": "code",
   "execution_count": 31,
   "metadata": {},
   "outputs": [],
   "source": [
    "ngram_min = 4\n",
    "ngram_max = 4\n",
    "min_df = 0.5\n",
    "max_df = 1.0\n",
    "\n",
    "train_df, test_df = train_test_split(data, test_size=0.2)\n",
    "vectorizer = CountVectorizer(ngram_range=(ngram_min, ngram_max), min_df=0.0, max_df=max_df)\n",
    "x_train = vectorizer.fit_transform(train_df.text)\n",
    "x_test = vectorizer.transform(test_df.text)"
   ]
  },
  {
   "cell_type": "code",
   "execution_count": 32,
   "metadata": {},
   "outputs": [
    {
     "name": "stdout",
     "output_type": "stream",
     "text": [
      "  (0, 1568310)\t1\n",
      "  (0, 2643426)\t1\n",
      "  (0, 3724563)\t1\n",
      "  (0, 1519218)\t1\n",
      "  (0, 3133568)\t1\n",
      "  (0, 2434180)\t1\n",
      "  (0, 3962110)\t1\n",
      "  (0, 4539252)\t1\n",
      "  (0, 108675)\t1\n",
      "  (0, 732034)\t1\n",
      "  (0, 2634185)\t1\n",
      "  (0, 3190483)\t1\n",
      "  (0, 3106058)\t1\n",
      "  (0, 2871070)\t1\n",
      "  (0, 4498894)\t1\n",
      "  (0, 4009322)\t1\n",
      "  (0, 837501)\t1\n",
      "  (0, 4195180)\t1\n",
      "  (0, 1559155)\t1\n",
      "  (0, 570856)\t1\n",
      "  (0, 1944949)\t1\n",
      "  (0, 962040)\t1\n",
      "  (0, 1548798)\t1\n",
      "  (0, 3811383)\t1\n",
      "  (0, 4219951)\t1\n",
      "  :\t:\n",
      "  (0, 2235001)\t1\n",
      "  (0, 2098097)\t1\n",
      "  (0, 3550170)\t1\n",
      "  (0, 4186725)\t1\n",
      "  (0, 837473)\t1\n",
      "  (0, 3159563)\t1\n",
      "  (0, 1550249)\t1\n",
      "  (0, 3263911)\t1\n",
      "  (0, 3422386)\t1\n",
      "  (0, 2626088)\t1\n",
      "  (0, 2692626)\t1\n",
      "  (0, 106896)\t1\n",
      "  (0, 4388265)\t1\n",
      "  (0, 2307969)\t1\n",
      "  (0, 4036417)\t1\n",
      "  (0, 4488578)\t1\n",
      "  (0, 1676162)\t1\n",
      "  (0, 1469673)\t1\n",
      "  (0, 487034)\t1\n",
      "  (0, 3804963)\t1\n",
      "  (0, 842321)\t1\n",
      "  (0, 2650982)\t1\n",
      "  (0, 4135561)\t1\n",
      "  (0, 3954804)\t1\n",
      "  (0, 2193423)\t1\n"
     ]
    }
   ],
   "source": [
    "print(x_train[0])"
   ]
  },
  {
   "cell_type": "code",
   "execution_count": 33,
   "metadata": {},
   "outputs": [
    {
     "ename": "MemoryError",
     "evalue": "Unable to allocate 1.32 TiB for an array with shape (40000, 4552209) and data type int64",
     "output_type": "error",
     "traceback": [
      "\u001b[0;31m---------------------------------------------------------------------------\u001b[0m",
      "\u001b[0;31mMemoryError\u001b[0m                               Traceback (most recent call last)",
      "\u001b[0;32m/tmp/ipykernel_3441319/2594380449.py\u001b[0m in \u001b[0;36m<module>\u001b[0;34m\u001b[0m\n\u001b[1;32m      1\u001b[0m \u001b[0mterms\u001b[0m \u001b[0;34m=\u001b[0m \u001b[0mvectorizer\u001b[0m\u001b[0;34m.\u001b[0m\u001b[0mget_feature_names\u001b[0m\u001b[0;34m(\u001b[0m\u001b[0;34m)\u001b[0m\u001b[0;34m\u001b[0m\u001b[0;34m\u001b[0m\u001b[0m\n\u001b[0;32m----> 2\u001b[0;31m \u001b[0mterm_counts\u001b[0m \u001b[0;34m=\u001b[0m \u001b[0mx_train\u001b[0m\u001b[0;34m.\u001b[0m\u001b[0mtoarray\u001b[0m\u001b[0;34m(\u001b[0m\u001b[0;34m)\u001b[0m\u001b[0;34m.\u001b[0m\u001b[0msum\u001b[0m\u001b[0;34m(\u001b[0m\u001b[0maxis\u001b[0m\u001b[0;34m=\u001b[0m\u001b[0;36m0\u001b[0m\u001b[0;34m)\u001b[0m\u001b[0;34m.\u001b[0m\u001b[0mtolist\u001b[0m\u001b[0;34m(\u001b[0m\u001b[0;34m)\u001b[0m\u001b[0;34m\u001b[0m\u001b[0;34m\u001b[0m\u001b[0m\n\u001b[0m\u001b[1;32m      3\u001b[0m \u001b[0mterm_counts\u001b[0m \u001b[0;34m=\u001b[0m \u001b[0msorted\u001b[0m\u001b[0;34m(\u001b[0m\u001b[0mzip\u001b[0m\u001b[0;34m(\u001b[0m\u001b[0mterms\u001b[0m\u001b[0;34m,\u001b[0m \u001b[0mterm_counts\u001b[0m\u001b[0;34m)\u001b[0m\u001b[0;34m,\u001b[0m \u001b[0mkey\u001b[0m\u001b[0;34m=\u001b[0m\u001b[0;32mlambda\u001b[0m \u001b[0mx\u001b[0m\u001b[0;34m:\u001b[0m \u001b[0mx\u001b[0m\u001b[0;34m[\u001b[0m\u001b[0;36m1\u001b[0m\u001b[0;34m]\u001b[0m\u001b[0;34m)\u001b[0m\u001b[0;34m\u001b[0m\u001b[0;34m\u001b[0m\u001b[0m\n\u001b[1;32m      4\u001b[0m \u001b[0mterm_counts\u001b[0m\u001b[0;34m.\u001b[0m\u001b[0mreverse\u001b[0m\u001b[0;34m(\u001b[0m\u001b[0;34m)\u001b[0m\u001b[0;34m\u001b[0m\u001b[0;34m\u001b[0m\u001b[0m\n\u001b[1;32m      5\u001b[0m \u001b[0mnum_terms\u001b[0m \u001b[0;34m=\u001b[0m \u001b[0mlen\u001b[0m\u001b[0;34m(\u001b[0m\u001b[0mterms\u001b[0m\u001b[0;34m)\u001b[0m\u001b[0;34m\u001b[0m\u001b[0;34m\u001b[0m\u001b[0m\n",
      "\u001b[0;32m/apps/anvil/external/apps/jupyter/lib/python3.9/site-packages/scipy/sparse/compressed.py\u001b[0m in \u001b[0;36mtoarray\u001b[0;34m(self, order, out)\u001b[0m\n\u001b[1;32m   1029\u001b[0m         \u001b[0;32mif\u001b[0m \u001b[0mout\u001b[0m \u001b[0;32mis\u001b[0m \u001b[0;32mNone\u001b[0m \u001b[0;32mand\u001b[0m \u001b[0morder\u001b[0m \u001b[0;32mis\u001b[0m \u001b[0;32mNone\u001b[0m\u001b[0;34m:\u001b[0m\u001b[0;34m\u001b[0m\u001b[0;34m\u001b[0m\u001b[0m\n\u001b[1;32m   1030\u001b[0m             \u001b[0morder\u001b[0m \u001b[0;34m=\u001b[0m \u001b[0mself\u001b[0m\u001b[0;34m.\u001b[0m\u001b[0m_swap\u001b[0m\u001b[0;34m(\u001b[0m\u001b[0;34m'cf'\u001b[0m\u001b[0;34m)\u001b[0m\u001b[0;34m[\u001b[0m\u001b[0;36m0\u001b[0m\u001b[0;34m]\u001b[0m\u001b[0;34m\u001b[0m\u001b[0;34m\u001b[0m\u001b[0m\n\u001b[0;32m-> 1031\u001b[0;31m         \u001b[0mout\u001b[0m \u001b[0;34m=\u001b[0m \u001b[0mself\u001b[0m\u001b[0;34m.\u001b[0m\u001b[0m_process_toarray_args\u001b[0m\u001b[0;34m(\u001b[0m\u001b[0morder\u001b[0m\u001b[0;34m,\u001b[0m \u001b[0mout\u001b[0m\u001b[0;34m)\u001b[0m\u001b[0;34m\u001b[0m\u001b[0;34m\u001b[0m\u001b[0m\n\u001b[0m\u001b[1;32m   1032\u001b[0m         \u001b[0;32mif\u001b[0m \u001b[0;32mnot\u001b[0m \u001b[0;34m(\u001b[0m\u001b[0mout\u001b[0m\u001b[0;34m.\u001b[0m\u001b[0mflags\u001b[0m\u001b[0;34m.\u001b[0m\u001b[0mc_contiguous\u001b[0m \u001b[0;32mor\u001b[0m \u001b[0mout\u001b[0m\u001b[0;34m.\u001b[0m\u001b[0mflags\u001b[0m\u001b[0;34m.\u001b[0m\u001b[0mf_contiguous\u001b[0m\u001b[0;34m)\u001b[0m\u001b[0;34m:\u001b[0m\u001b[0;34m\u001b[0m\u001b[0;34m\u001b[0m\u001b[0m\n\u001b[1;32m   1033\u001b[0m             \u001b[0;32mraise\u001b[0m \u001b[0mValueError\u001b[0m\u001b[0;34m(\u001b[0m\u001b[0;34m'Output array must be C or F contiguous'\u001b[0m\u001b[0;34m)\u001b[0m\u001b[0;34m\u001b[0m\u001b[0;34m\u001b[0m\u001b[0m\n",
      "\u001b[0;32m/apps/anvil/external/apps/jupyter/lib/python3.9/site-packages/scipy/sparse/base.py\u001b[0m in \u001b[0;36m_process_toarray_args\u001b[0;34m(self, order, out)\u001b[0m\n\u001b[1;32m   1200\u001b[0m             \u001b[0;32mreturn\u001b[0m \u001b[0mout\u001b[0m\u001b[0;34m\u001b[0m\u001b[0;34m\u001b[0m\u001b[0m\n\u001b[1;32m   1201\u001b[0m         \u001b[0;32melse\u001b[0m\u001b[0;34m:\u001b[0m\u001b[0;34m\u001b[0m\u001b[0;34m\u001b[0m\u001b[0m\n\u001b[0;32m-> 1202\u001b[0;31m             \u001b[0;32mreturn\u001b[0m \u001b[0mnp\u001b[0m\u001b[0;34m.\u001b[0m\u001b[0mzeros\u001b[0m\u001b[0;34m(\u001b[0m\u001b[0mself\u001b[0m\u001b[0;34m.\u001b[0m\u001b[0mshape\u001b[0m\u001b[0;34m,\u001b[0m \u001b[0mdtype\u001b[0m\u001b[0;34m=\u001b[0m\u001b[0mself\u001b[0m\u001b[0;34m.\u001b[0m\u001b[0mdtype\u001b[0m\u001b[0;34m,\u001b[0m \u001b[0morder\u001b[0m\u001b[0;34m=\u001b[0m\u001b[0morder\u001b[0m\u001b[0;34m)\u001b[0m\u001b[0;34m\u001b[0m\u001b[0;34m\u001b[0m\u001b[0m\n\u001b[0m\u001b[1;32m   1203\u001b[0m \u001b[0;34m\u001b[0m\u001b[0m\n\u001b[1;32m   1204\u001b[0m \u001b[0;34m\u001b[0m\u001b[0m\n",
      "\u001b[0;31mMemoryError\u001b[0m: Unable to allocate 1.32 TiB for an array with shape (40000, 4552209) and data type int64"
     ]
    }
   ],
   "source": [
    "terms = vectorizer.get_feature_names()\n",
    "term_counts = x_train.toarray().sum(axis=0).tolist()\n",
    "term_counts = sorted(zip(terms, term_counts), key=lambda x: x[1])\n",
    "term_counts.reverse()\n",
    "num_terms = len(terms)\n",
    "\n",
    "print(f\"Number of Unique Tokens: {num_terms}\")\n",
    "print(\"Most Common Terms:\")\n",
    "print(\"-\" * len(\"Most Common Terms:\"))\n",
    "for i, j in term_counts[:10]:\n",
    "    print(f\"{i} - {j}\")\n",
    "print()\n",
    "print(\"#\"*20)\n",
    "print()\n",
    "\n",
    "least_common = term_counts[-10:]\n",
    "least_common.reverse()\n",
    "\n",
    "print(\"Least Common Terms:\")\n",
    "print(\"-\" * len(\"Least Common Terms:\"))\n",
    "for i, j in least_common:\n",
    "    print(f\"{i} - {j}\")"
   ]
  },
  {
   "cell_type": "markdown",
   "metadata": {},
   "source": [
    "## Fitting Model\n",
    "\n",
    "In this section, we will be fitting the Logistic Regression model. Be aware that the number of tokens used in the Bag-of-Words will determine the size of the model. Including too many features can make the model run for several minutes."
   ]
  },
  {
   "cell_type": "code",
   "execution_count": 9,
   "metadata": {},
   "outputs": [
    {
     "name": "stdout",
     "output_type": "stream",
     "text": [
      "Number of Logical Processors: 128\n"
     ]
    }
   ],
   "source": [
    "print(f\"Number of Logical Processors: {os.cpu_count()}\")"
   ]
  },
  {
   "cell_type": "markdown",
   "metadata": {},
   "source": [
    "Above you will see the number of logical processors you computer can use for parallel processing. The more you use the faster your model will train. Setting it to the total number of processors will be the fastest but will also use the most memory. Setting it to the max is my recommendation. The **num_processors** variable below is set to -1 which will tell the model to use every processor. If your model is still taking more than ~5 minutes to train than you likely have included too many tokens in your model."
   ]
  },
  {
   "cell_type": "code",
   "execution_count": 10,
   "metadata": {},
   "outputs": [
    {
     "name": "stderr",
     "output_type": "stream",
     "text": [
      "/apps/anvil/external/apps/jupyter/lib/python3.9/site-packages/sklearn/linear_model/_logistic.py:1355: UserWarning: 'n_jobs' > 1 does not have any effect when 'solver' is set to 'liblinear'. Got 'n_jobs' = 3.\n",
      "  warnings.warn(\"'n_jobs' > 1 does not have any effect when\"\n"
     ]
    },
    {
     "data": {
      "text/plain": [
       "LogisticRegression(max_iter=2000, n_jobs=-1, solver='liblinear')"
      ]
     },
     "execution_count": 10,
     "metadata": {},
     "output_type": "execute_result"
    }
   ],
   "source": [
    "num_processors = -1\n",
    "\n",
    "model = LogisticRegression(max_iter=2000, n_jobs=num_processors, solver='liblinear')\n",
    "model.fit(x_train.toarray(), train_df.label.values)"
   ]
  },
  {
   "cell_type": "markdown",
   "metadata": {},
   "source": [
    "Below will be the accuracy of the model on a held-out test set. The maximal score is 1.0 and 0.5 would be equivalent to a random guess."
   ]
  },
  {
   "cell_type": "code",
   "execution_count": 11,
   "metadata": {},
   "outputs": [
    {
     "name": "stdout",
     "output_type": "stream",
     "text": [
      "Test Set Accuracy: 0.7758\n"
     ]
    }
   ],
   "source": [
    "test_acc = model.score(x_test, test_df.label.values)\n",
    "print(f\"Test Set Accuracy: {test_acc}\")"
   ]
  },
  {
   "cell_type": "markdown",
   "metadata": {},
   "source": [
    "### Notes\n",
    "\n",
    "In the next Markdown cell add notes of your observations. What is the effect of the number of tokens included? How did it impact performance? What size of ngrams and number of tokens produced the best model? Simply using frequency might not be the best method for selecting features, how might you do it differently?"
   ]
  },
  {
   "cell_type": "markdown",
   "metadata": {},
   "source": [
    "Add notes here"
   ]
  },
  {
   "cell_type": "markdown",
   "metadata": {},
   "source": [
    "## Hyper-Parameters"
   ]
  },
  {
   "cell_type": "markdown",
   "metadata": {},
   "source": [
    "Run the next two cells to perform hyper-parameter tuning and see the results of the best hyper-parameters on the test set. It is not uncommon for hyper-parameter tuning to take several minutes. If it takes longer than ~10, you may need to interrupt the cell or restart the kernel and try again with a different ngram size."
   ]
  },
  {
   "cell_type": "code",
   "execution_count": 12,
   "metadata": {},
   "outputs": [
    {
     "data": {
      "text/plain": [
       "GridSearchCV(estimator=LogisticRegression(max_iter=2000, solver='liblinear'),\n",
       "             n_jobs=-1,\n",
       "             param_grid={'C': [0.01, 0.1, 1, 10, 100], 'penalty': ['l1', 'l2']})"
      ]
     },
     "execution_count": 12,
     "metadata": {},
     "output_type": "execute_result"
    }
   ],
   "source": [
    "import numpy as np\n",
    "\n",
    "parameters = {'penalty': ['l1', 'l2', 'elasticnet'], 'C': [0.01, 0.1, 1, 10, 100]}\n",
    "\n",
    "log_model = LogisticRegression(max_iter=2000, solver='liblinear')\n",
    "grid = GridSearchCV(log_model, parameters, n_jobs=-1)\n",
    "grid.fit(x_train, train_df.label.values)\n"
   ]
  },
  {
   "cell_type": "code",
   "execution_count": 13,
   "metadata": {},
   "outputs": [
    {
     "name": "stdout",
     "output_type": "stream",
     "text": [
      "Best_Parameters:\n",
      "C = 1\n",
      "penalty = l1\n",
      "\n",
      "####################\n",
      "\n",
      "New Test Accuracy: 0.7776\n"
     ]
    }
   ],
   "source": [
    "best_model = grid.best_estimator_\n",
    "print(\"Best_Parameters:\")\n",
    "for k, v in grid.best_params_.items():\n",
    "    print(f\"{k} = {v}\")\n",
    "print()\n",
    "print(\"#\" * 20)\n",
    "print()\n",
    "\n",
    "best_test_acc = best_model.score(x_test, test_df.label.values)\n",
    "print(f\"New Test Accuracy: {best_test_acc}\")"
   ]
  },
  {
   "cell_type": "markdown",
   "metadata": {},
   "source": [
    "**Experiment:** Test different variables and values for hyper-parameter tuning to see the best results that you can generate. Provide notes in the next cell for your findings in testing with hyper-parameters."
   ]
  },
  {
   "cell_type": "markdown",
   "metadata": {},
   "source": [
    "Add notes here"
   ]
  }
 ],
 "metadata": {
  "kernelspec": {
   "display_name": "Python 3.9.7 64-bit",
   "language": "python",
   "name": "python3"
  },
  "language_info": {
   "codemirror_mode": {
    "name": "ipython",
    "version": 3
   },
   "file_extension": ".py",
   "mimetype": "text/x-python",
   "name": "python",
   "nbconvert_exporter": "python",
   "pygments_lexer": "ipython3",
   "version": "3.9.7"
  },
  "orig_nbformat": 4,
  "vscode": {
   "interpreter": {
    "hash": "ee1cd9b302554fc418f8b84f658dab3188467b37dcaeb92c53502d81e2e402a3"
   }
  }
 },
 "nbformat": 4,
 "nbformat_minor": 2
}
