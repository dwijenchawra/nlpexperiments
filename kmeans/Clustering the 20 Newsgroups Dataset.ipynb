{
 "cells": [
  {
   "cell_type": "markdown",
   "id": "46d13460",
   "metadata": {},
   "source": [
    "# Newsgroups Clustering\n",
    "\n",
    "The 20 Newsgroups dataset, available in scikit-learn, is composed of roughly 20,000 newsgroup articles (more info here: http://qwone.com/~jason/20Newsgroups/). Today, you will be looking at some of these texts and doing the following: \n",
    "- Exploring the 20 newsgroups dataset\n",
    "- Cleaning the texts to prepare them for analysis\n",
    "    - removing useless punctutation/numbers\n",
    "    - lemmatizing words\n",
    "- Exploring clustering algorithms\n",
    "    - KMeans\n",
    "    - Hierarchical (agglomerative) clustering\n",
    "- Going further\n",
    "- Thinking about how you can use clustering analyses on other real-world texts\n",
    "    - survey responses\n",
    "    - twitter\n",
    "    - etc."
   ]
  },
  {
   "cell_type": "markdown",
   "id": "2e539f71",
   "metadata": {},
   "source": [
    "Load in some useful modules"
   ]
  },
  {
   "cell_type": "code",
   "execution_count": 1,
   "id": "7f2497ec",
   "metadata": {},
   "outputs": [
    {
     "name": "stderr",
     "output_type": "stream",
     "text": [
      "[nltk_data] Downloading package stopwords to\n",
      "[nltk_data]     /home/x-dchawra/nltk_data...\n",
      "[nltk_data]   Package stopwords is already up-to-date!\n",
      "[nltk_data] Downloading package punkt to /home/x-dchawra/nltk_data...\n",
      "[nltk_data]   Package punkt is already up-to-date!\n",
      "[nltk_data] Downloading package wordnet to\n",
      "[nltk_data]     /home/x-dchawra/nltk_data...\n",
      "[nltk_data]   Package wordnet is already up-to-date!\n",
      "[nltk_data] Downloading package omw-1.4 to\n",
      "[nltk_data]     /home/x-dchawra/nltk_data...\n",
      "[nltk_data]   Package omw-1.4 is already up-to-date!\n"
     ]
    }
   ],
   "source": [
    "# general modules \n",
    "import pandas as pd\n",
    "pd.set_option('display.max_columns', None)\n",
    "import numpy as np\n",
    "import re\n",
    "import string\n",
    "import os\n",
    "os.environ[\"OMP_NUM_THREADS\"] = '5' # for K-Means\n",
    "\n",
    "# scikit-learn modules \n",
    "from sklearn.datasets import fetch_20newsgroups\n",
    "from sklearn.feature_extraction.text import TfidfVectorizer, CountVectorizer\n",
    "from sklearn.cluster import KMeans, AgglomerativeClustering\n",
    "from sklearn.mixture import GaussianMixture\n",
    "from sklearn.metrics import homogeneity_score\n",
    "\n",
    "# NLP modules\n",
    "import nltk\n",
    "from nltk.corpus import stopwords\n",
    "nltk.download('stopwords')\n",
    "nltk.download('punkt')\n",
    "nltk.download('wordnet')\n",
    "nltk.download('omw-1.4')\n",
    "from nltk.stem import WordNetLemmatizer"
   ]
  },
  {
   "cell_type": "markdown",
   "id": "267d2e61",
   "metadata": {},
   "source": [
    "# 1. Exploration of the 20 Newsgroups Dataset"
   ]
  },
  {
   "cell_type": "code",
   "execution_count": 2,
   "id": "dc7ca5c1",
   "metadata": {},
   "outputs": [],
   "source": [
    "# list of categories we'll explore\n",
    "input_categories = [\n",
    " 'comp.graphics',\n",
    " 'comp.sys.ibm.pc.hardware',\n",
    " 'comp.sys.mac.hardware',\n",
    " 'comp.windows.x',\n",
    " 'rec.motorcycles',\n",
    " 'rec.sport.baseball',\n",
    " 'rec.sport.hockey',\n",
    " ]"
   ]
  },
  {
   "cell_type": "code",
   "execution_count": 4,
   "id": "52525741",
   "metadata": {},
   "outputs": [],
   "source": [
    "# get the data, removing headers, footers and quotes \n",
    "newsgroups_data = fetch_20newsgroups(subset = 'train', categories = input_categories, remove = (\"headers\", \"footers\", \"quotes\"), shuffle = False)\n",
    "\n",
    "# grab the data, and convert it to an array to make future indexing easier\n",
    "newsgroups_data_orig = np.array(newsgroups_data.data)\n",
    "\n",
    "# get the classification labels, and the set of main categories that each text belongs to\n",
    "targets = newsgroups_data.target\n",
    "target_names = newsgroups_data.target_names"
   ]
  },
  {
   "cell_type": "code",
   "execution_count": 5,
   "id": "c77bf09a",
   "metadata": {},
   "outputs": [
    {
     "name": "stdout",
     "output_type": "stream",
     "text": [
      "================================================================\n",
      "Category: rec.sport.baseball \n",
      "----------------------------------------------------------------\n",
      "morgan and guzman will have era's 1 run higher than last year, and\n",
      " the cubs will be idiots and not pitch harkey as much as hibbard.\n",
      " castillo won't be good (i think he's a stud pitcher)...\n",
      "================================================================\n",
      "Category: comp.sys.mac.hardware \n",
      "----------------------------------------------------------------\n",
      "Well, I just got my Centris 610 yesterday.  It took just over two \n",
      "weeks from placing the order.  The dealer (Rutgers computer store) \n",
      "appologized because Apple made a substitution on my order.  I ordered\n",
      "the one without ethernet, but they substitute...\n",
      "================================================================\n",
      "Category: comp.sys.mac.hardware \n",
      "----------------------------------------------------------------\n",
      "To the best of my knowledge there aren't any problems with Quadras and\n",
      "blind transfers.  Trouble with blind transfers usually means the programmer\n",
      "screwed up the TIBs or didn't test their driver with the device in question.\n",
      "Well designed TIBs poll or...\n",
      "================================================================\n",
      "Category: comp.sys.mac.hardware \n",
      "----------------------------------------------------------------\n",
      "Help!!!\n",
      "\n",
      "I have an ADB graphicsd tablet which I want to connect to my\n",
      "Quadra 950. Unfortunately, the 950 has only one ADB port and\n",
      "it seems I would have to give up my mouse.\n",
      "\n",
      "Please, can someone help me? I want to use the tablet as well as\n",
      "the mouse...\n",
      "================================================================\n",
      "Category: comp.windows.x \n",
      "----------------------------------------------------------------\n",
      "Hello world,\n",
      "\n",
      "I want to write my Xt-application code like this:\n",
      "\n",
      "{\n",
      "    do_some_work();\n",
      "    /* now I need some user input */\n",
      "    XmCreateDialog();\n",
      "    wait_for_user_input(input);\n",
      "    if (input == \"OK\") {\n",
      "       more_work();\n",
      "    } else {\n",
      "       other_w...\n",
      "================================================================\n",
      "Category: comp.windows.x \n",
      "----------------------------------------------------------------\n",
      "> Hi.\n",
      "  > \n",
      "  > I use Emacs and I want to customize my keyboard better.\n",
      "  > When I set up stuff in my .emacs with a keymap and define-keys,\n",
      "  > I can only access certain of the keys on my X-Terminal's\n",
      "  > keyboard. I can't get e.g. F10, Home, End, P...\n",
      "================================================================\n",
      "Category: rec.sport.hockey \n",
      "----------------------------------------------------------------\n",
      "...\n",
      "================================================================\n",
      "Category: comp.windows.x \n",
      "----------------------------------------------------------------\n",
      "What \"it may think is right\" may be exactly what the user wants.\n",
      "Assuming that your application \"has reason to know better\" is, IMHO,\n",
      "anti-social.  If I start your application with a -geometry option are\n",
      "you going to ignore that as well?\n",
      "\n",
      "There's r...\n",
      "================================================================\n",
      "Category: rec.sport.hockey \n",
      "----------------------------------------------------------------\n",
      "I think that NHLPA' 93 is the best video game available now.\n",
      "of course many things could be done better, but i really appreciate that\n",
      "the names of players are the real ones, no matter if it lacks some logos...\n",
      "I am still playing it since November lea...\n",
      "================================================================\n",
      "Category: rec.motorcycles \n",
      "----------------------------------------------------------------\n",
      "A note to users of Plexi-Fairings:\n",
      "\n",
      "If the light hits some of these just right, they become a giant magnifing \n",
      "glass and will melt a hole in your guage pod!  \n",
      "\n",
      " ----===== DoD #8177 = Technician(Dr. Speed) .NOT. Student =====----...\n",
      "================================================================\n",
      "Category: rec.sport.baseball \n",
      "----------------------------------------------------------------\n",
      "Um, the header said *career.*  Hodapp managed about 3000 PA in his\n",
      "nine years in the majors.\n",
      "\n",
      "As for his \"consistently over .300,\" make that \"three years in a row, \n",
      "preceded by a part-time year, plus his last year, with Boston.\"  Hodapp\n",
      "only qua...\n",
      "================================================================\n",
      "Category: comp.graphics \n",
      "----------------------------------------------------------------\n",
      "In regards to fractal commpression, I have seen 2 fractal compressed \"movies\".\n",
      "They were both fairly impressive.  The first one was a 64 gray scale \"movie\" of\n",
      "Casablanca, it was 1.3MB and had 11 minutes of 13 fps video.  It was a little\n",
      "grainy but no...\n",
      "================================================================\n",
      "Category: comp.windows.x \n",
      "----------------------------------------------------------------\n",
      "Hello folks,\n",
      "\n",
      "I'm seeing these errors when I try to modify my key map:\n",
      "\n",
      "mwm: invalid accelerator specfication, line x\n",
      "\n",
      "I've added a line in the start up file before the line\n",
      "that starts mwm. It looks like the following:\n",
      "\n",
      "xmodmap keymapfile\n",
      "mwm\n",
      "\n",
      "I thi...\n",
      "================================================================\n",
      "Category: comp.sys.mac.hardware \n",
      "----------------------------------------------------------------\n",
      "Yes! what you are saying is absolutey true, but what you fail to mention is the\n",
      "fact that the LCIII uses the new 72 pin simms which allow 32 bit access to\n",
      "each simm. In the case of the LC III, it only has one simm slot, but accesses will\n",
      "be 32 bits w...\n",
      "================================================================\n",
      "Category: comp.sys.ibm.pc.hardware \n",
      "----------------------------------------------------------------\n",
      "I own an 80386sx, 16Mhz, 2Mb ram machine and am finding it too slow for\n",
      "certain games such as X-wing. I was in a Computer store there the other\n",
      "day and saw a series of Gamecards which claim to speed up your machine\n",
      "to up to 80Mhz! I was wondering if...\n",
      "================================================================\n",
      "Category: rec.sport.hockey \n",
      "----------------------------------------------------------------\n",
      "I have one complaint for the cameramen doing the Jersey-Pitt series:  Show\n",
      "the shots, not the hits.  On more than one occassion the camera zoomed in\n",
      "on a check along the boards while the puck was in the slot.  They panned\n",
      "back to show the rebound....\n",
      "================================================================\n",
      "Category: comp.sys.mac.hardware \n",
      "----------------------------------------------------------------\n",
      "If anyone has any information about the upcoming new computers\n",
      "(Cyclone and Tempest), I am in need of some info. Anything would be\n",
      "greatly appreciated.\n",
      "\n",
      "Thanks,...\n",
      "================================================================\n",
      "Category: rec.sport.baseball \n",
      "----------------------------------------------------------------\n",
      "I'm from Dallas, and you have alot of nerve saying that WFAN has a bunch of \n",
      "Hoodlum Mets fans.  During the football season, the local cowboy station here \n",
      "had the WIP on several times for simultanious broadcasts.  I have never heard  \n",
      "a bigger bu...\n",
      "================================================================\n",
      "Category: comp.sys.mac.hardware \n",
      "----------------------------------------------------------------\n",
      "We're all set to buy one of these for the office, to use for scanning in\n",
      "color photographs and for optical character recognition.  We've played with\n",
      "the original grayscale OneScanner and were very pleased.  Is the color model\n",
      "comparable in quality?...\n",
      "================================================================\n",
      "Category: comp.windows.x \n",
      "----------------------------------------------------------------\n",
      "<I might have a need in the future to display rotated text.  I noticed the\n",
      "<\"xvertext\" package on the net.  It looks very good, but it has one slight\n",
      "<problem.  The API to it assumes you have a font name, not an already loaded\n",
      "<font.  It shouldn't be...\n"
     ]
    }
   ],
   "source": [
    "# print the first 250 characters of the first 10 documents, and the class they belong to\n",
    "for i in range(20):\n",
    "    category_name = target_names[targets[i]]\n",
    "    print(\"================================================================\")\n",
    "    print(\"Category: {} \\n----------------------------------------------------------------\".format(category_name))\n",
    "    print(''.join([newsgroups_data_orig[i][:250].strip(), '...']))"
   ]
  },
  {
   "cell_type": "markdown",
   "id": "81c8b5ba",
   "metadata": {},
   "source": [
    "Some interesting observations to note: \n",
    "- Some texts are much longer than others\n",
    "    - Some contain no information at all!\n",
    "- Some contain information in tables\n",
    "- Some contain email addresses"
   ]
  },
  {
   "cell_type": "markdown",
   "id": "858e89a2",
   "metadata": {},
   "source": [
    "As noted above, there's a lot of variability to these texts. In addition to the varying length, content, etc. there's a lot of issues that can arise when analyzing this data. For example, punctuation, typos, whitespaces, numbers, etc. To handle some of these, we'll do the following:\n",
    "- remove punctuation\n",
    "- remove single letters \n",
    "- remove extra whitespace"
   ]
  },
  {
   "cell_type": "code",
   "execution_count": 6,
   "id": "e1ce20f4",
   "metadata": {},
   "outputs": [],
   "source": [
    "def remove_punctuation(text):\n",
    "    text = re.sub(r'''      # Start raw string block\n",
    "               \\W+       # Accept one or more non-word characters\n",
    "               \\s*       # plus zero or more whitespace characters,\n",
    "               ''',      # Close string block\n",
    "               ' ',      # and replace it with a single space\n",
    "               text,\n",
    "               flags=re.VERBOSE)\n",
    "    return text"
   ]
  },
  {
   "cell_type": "code",
   "execution_count": 7,
   "id": "0b4943e0",
   "metadata": {},
   "outputs": [],
   "source": [
    "def remove_single_letters(text):\n",
    "    \"\"\"\n",
    "    \n",
    "\n",
    "    Parameters\n",
    "    ----------\n",
    "    text : str\n",
    "        a document\n",
    "\n",
    "    Returns\n",
    "    -------\n",
    "    text : str\n",
    "        a string with single letter characters removed.\n",
    "\n",
    "    \"\"\"\n",
    "    text = re.sub(r'\\b[a-zA-Z]\\b', '', text)\n",
    "    return text"
   ]
  },
  {
   "cell_type": "code",
   "execution_count": 14,
   "id": "a39c8403",
   "metadata": {},
   "outputs": [],
   "source": [
    "def remove_numbers(text):\n",
    "    \"\"\"\n",
    "    \n",
    "\n",
    "    Parameters\n",
    "    ----------\n",
    "    text : str\n",
    "        a document.\n",
    "\n",
    "    Returns\n",
    "    -------\n",
    "    text : str\n",
    "        a document with numbers removed.\n",
    "\n",
    "    \"\"\"\n",
    "    text = re.sub(r'[0-9]+', '', text)\n",
    "    return text"
   ]
  },
  {
   "cell_type": "code",
   "execution_count": 15,
   "id": "3799371e",
   "metadata": {},
   "outputs": [],
   "source": [
    "def clean_text(text):\n",
    "    \"\"\"\n",
    "    \n",
    "\n",
    "    Parameters\n",
    "    ----------\n",
    "    text : str\n",
    "        a document.\n",
    "\n",
    "    Returns\n",
    "    -------\n",
    "    text : str\n",
    "        a document with the following removed:\n",
    "            - numbers\n",
    "            - punctuation\n",
    "            - single letter characters\n",
    "            - underscores (for email signatures and handmade emojis) removed\n",
    "            - removed additional whitespace\n",
    "\n",
    "    \"\"\"\n",
    "    text = text.lower()\n",
    "    \n",
    "    # remove numbers\n",
    "    text = remove_numbers(text)\n",
    "    \n",
    "    # remove punctuation\n",
    "    text = remove_punctuation(text)\n",
    "    \n",
    "    # remove single letter characters \n",
    "    text = remove_single_letters(text)\n",
    "    \n",
    "    # remove underscores\n",
    "    text = text.replace('_', \"\")\n",
    "    \n",
    "    # remove excessive whitespace from whatevers left\n",
    "    text = \" \".join(text.split())\n",
    "    \n",
    "    return text"
   ]
  },
  {
   "cell_type": "markdown",
   "id": "92fc1d94",
   "metadata": {},
   "source": [
    "In addition to cleaning the text, we'll need to stemmatize the remaining words"
   ]
  },
  {
   "cell_type": "code",
   "execution_count": 16,
   "id": "d1b9a296",
   "metadata": {},
   "outputs": [],
   "source": [
    "# grab list of stop words from nltk (includes contractions)\n",
    "stop = stopwords.words('english')\n",
    "\n",
    "# update the list \n",
    "stop += [\"i'll\", \"i'm\", 'i']"
   ]
  },
  {
   "cell_type": "code",
   "execution_count": 17,
   "id": "24ab0abb",
   "metadata": {},
   "outputs": [],
   "source": [
    "def tokenize(text):\n",
    "    text = text.lower()\n",
    "    text = \" \".join([word for word in text.split() if word not in stop])\n",
    "    tokens = nltk.word_tokenize(text)\n",
    "    lemmatized_tokens = []\n",
    "    for item in tokens:\n",
    "        lemmatized_tokens.append(WordNetLemmatizer().lemmatize(item))\n",
    "    # only want stems with length greater than 2\n",
    "    lemmatized_tokens = [l for l in lemmatized_tokens if len(l) > 2]\n",
    "    return lemmatized_tokens"
   ]
  },
  {
   "cell_type": "code",
   "execution_count": 18,
   "id": "80662bc0",
   "metadata": {},
   "outputs": [],
   "source": [
    "# clean the data with the text cleaner\n",
    "newsgroups_data_cleaned = np.array([clean_text(text) for text in newsgroups_data_orig])"
   ]
  },
  {
   "cell_type": "code",
   "execution_count": 19,
   "id": "e0245144",
   "metadata": {},
   "outputs": [
    {
     "name": "stdout",
     "output_type": "stream",
     "text": [
      "================================================================\n",
      "Category: rec.sport.baseball \n",
      "----------------------------------------------------------------\n",
      "morgan and guzman will have era run higher than last year and the cubs will be idiots and not pitch harkey as much as hibbard castillo won be good think he stud pitcher...\n",
      "================================================================\n",
      "Category: comp.sys.mac.hardware \n",
      "----------------------------------------------------------------\n",
      "well just got my centris yesterday it took just over two weeks from placing the order the dealer rutgers computer store appologized because apple made substitution on my order ordered the one without ethernet but they substituted one with ethernet he...\n",
      "================================================================\n",
      "Category: comp.sys.mac.hardware \n",
      "----------------------------------------------------------------\n",
      "to the best of my knowledge there aren any problems with quadras and blind transfers trouble with blind transfers usually means the programmer screwed up the tibs or didn test their driver with the device in question well designed tibs poll or loop a...\n",
      "================================================================\n",
      "Category: comp.sys.mac.hardware \n",
      "----------------------------------------------------------------\n",
      "help have an adb graphicsd tablet which want to connect to my quadra unfortunately the has only one adb port and it seems would have to give up my mouse please can someone help me want to use the tablet as well as the mouse and the keyboard of course...\n",
      "================================================================\n",
      "Category: comp.windows.x \n",
      "----------------------------------------------------------------\n",
      "hello world want to write my xt application code like this dosomework now need some user input xmcreatedialog waitforuserinput input if input ok morework else otherwork so morework and otherwork are not in callback functions but the application simpl...\n",
      "================================================================\n",
      "Category: comp.windows.x \n",
      "----------------------------------------------------------------\n",
      "hi use emacs and want to customize my keyboard better when set up stuff in my emacs with keymap and define keys can only access certain of the keys on my terminal keyboard can get home end pgup pgdn they all seem to have either the same or no keycode...\n",
      "================================================================\n",
      "Category: rec.sport.hockey \n",
      "----------------------------------------------------------------\n",
      "...\n",
      "================================================================\n",
      "Category: comp.windows.x \n",
      "----------------------------------------------------------------\n",
      "what it may think is right may be exactly what the user wants assuming that your application has reason to know better is imho anti social if start your application with geometry option are you going to ignore that as well there really no way to forc...\n",
      "================================================================\n",
      "Category: rec.sport.hockey \n",
      "----------------------------------------------------------------\n",
      "think that nhlpa is the best video game available now of course many things could be done better but really appreciate that the names of players are the real ones no matter if it lacks some logos am still playing it since november leading different t...\n",
      "================================================================\n",
      "Category: rec.motorcycles \n",
      "----------------------------------------------------------------\n",
      "note to users of plexi fairings if the light hits some of these just right they become giant magnifing glass and will melt hole in your guage pod dod technician dr speed not student...\n"
     ]
    }
   ],
   "source": [
    "# look at some of the cleaned texts before lemmatization\n",
    "for i in range(10):\n",
    "    category_name = target_names[targets[i]]\n",
    "    print(\"================================================================\")\n",
    "    print(\"Category: {} \\n----------------------------------------------------------------\".format(category_name))\n",
    "    print(\"\".join([newsgroups_data_cleaned[i][:250], '...']))"
   ]
  },
  {
   "cell_type": "code",
   "execution_count": 20,
   "id": "36d1582e",
   "metadata": {},
   "outputs": [],
   "source": [
    "# apply the tokenizer, and join the results\n",
    "newsgroups_data_cleaned = np.array([\" \".join(tokenize(text)) for text in newsgroups_data_cleaned])"
   ]
  },
  {
   "cell_type": "code",
   "execution_count": 21,
   "id": "1674a566",
   "metadata": {},
   "outputs": [
    {
     "name": "stdout",
     "output_type": "stream",
     "text": [
      "================================================================\n",
      "Category: rec.sport.baseball \n",
      "----------------------------------------------------------------\n",
      "morgan guzman era run higher last year cub idiot pitch harkey much hibbard castillo good think stud pitcher...\n",
      "================================================================\n",
      "Category: comp.sys.mac.hardware \n",
      "----------------------------------------------------------------\n",
      "well got centris yesterday took two week placing order dealer rutgers computer store appologized apple made substitution order ordered one without ethernet substituted one ethernet wanted know would alright must backlogged centri ethernet shipping an...\n",
      "================================================================\n",
      "Category: comp.sys.mac.hardware \n",
      "----------------------------------------------------------------\n",
      "best knowledge problem quadras blind transfer trouble blind transfer usually mean programmer screwed tib test driver device question well designed tib poll loop every point delay µsec occur usually occurs first byte block transfer device hiccup middl...\n",
      "================================================================\n",
      "Category: comp.sys.mac.hardware \n",
      "----------------------------------------------------------------\n",
      "help adb graphicsd tablet want connect quadra unfortunately one adb port seems would give mouse please someone help want use tablet well mouse keyboard course thanks advance...\n",
      "================================================================\n",
      "Category: comp.windows.x \n",
      "----------------------------------------------------------------\n",
      "hello world want write application code like dosomework need user input xmcreatedialog waitforuserinput input input morework else otherwork morework otherwork callback function application simply wait user answer question code motif application thank...\n",
      "================================================================\n",
      "Category: comp.windows.x \n",
      "----------------------------------------------------------------\n",
      "use emacs want customize keyboard better set stuff emacs keymap define key access certain key terminal keyboard get home end pgup pgdn seem either keycode feeling fixed emacs need xmodmap stuff someone help unfortunately key event handling pretty muc...\n",
      "================================================================\n",
      "Category: rec.sport.hockey \n",
      "----------------------------------------------------------------\n",
      "...\n",
      "================================================================\n",
      "Category: comp.windows.x \n",
      "----------------------------------------------------------------\n",
      "may think right may exactly user want assuming application reason know better imho anti social start application geometry option going ignore well really way force window manager much anything managing window ask hint guarantee going get want...\n",
      "================================================================\n",
      "Category: rec.sport.hockey \n",
      "----------------------------------------------------------------\n",
      "think nhlpa best video game available course many thing could done better really appreciate name player real one matter lack logo still playing since november leading different team final making scorer team compete top scoring yesterday title using t...\n",
      "================================================================\n",
      "Category: rec.motorcycles \n",
      "----------------------------------------------------------------\n",
      "note user plexi fairings light hit right become giant magnifing glass melt hole guage pod dod technician speed student...\n"
     ]
    }
   ],
   "source": [
    "# look at some of the cleaned texts after lemmatization\n",
    "for i in range(10):\n",
    "    category_name = target_names[targets[i]]\n",
    "    print(\"================================================================\")\n",
    "    print(\"Category: {} \\n----------------------------------------------------------------\".format(category_name))\n",
    "    print(\"\".join([newsgroups_data_cleaned[i][:250], '...']))"
   ]
  },
  {
   "cell_type": "markdown",
   "id": "ab38fcec",
   "metadata": {},
   "source": [
    "Notice how each category of texts has a specific category, to which each belongs to a broad category: \n",
    "- Computers ---> Systems ---> IBM ---> PC ---> Hardware\n",
    "    - Computers\n",
    "- Recreation ---> Sports ---> Hockey\n",
    "    - Recreation\n",
    "\n",
    "Let's get the specific categories, then the broad categories. \n",
    "\n",
    "Before doing this however, let's remove some of the texts as they contain very little information"
   ]
  },
  {
   "cell_type": "code",
   "execution_count": 22,
   "id": "afb3ee10",
   "metadata": {},
   "outputs": [],
   "source": [
    "# some texts are blank or have very little text, remove all texts with less than 20 characters or 5 tokens before continuing\n",
    "good_texts = np.array([len(x) - x.count(' ') >= 100 and len(x.split()) >= 5 for x in newsgroups_data_cleaned])"
   ]
  },
  {
   "cell_type": "code",
   "execution_count": 23,
   "id": "30acb764",
   "metadata": {},
   "outputs": [],
   "source": [
    "# get the specific category labels (e.g. 'comp.sys.ibm.pc.hardware', 'rec.autos')\n",
    "category_labels = np.array([target_names[x] for x in targets])"
   ]
  },
  {
   "cell_type": "code",
   "execution_count": 24,
   "id": "1e0fbf01",
   "metadata": {},
   "outputs": [],
   "source": [
    "# make a list of broader category labels (e.g. recreation (rec), computers (comp), etc.) by splitting on first period\n",
    "broad_category_labels = np.array([x.split('.')[0] for x in category_labels])"
   ]
  },
  {
   "cell_type": "code",
   "execution_count": 25,
   "id": "f32e2a35",
   "metadata": {},
   "outputs": [],
   "source": [
    "# remove bad texts from all labels\n",
    "newsgroups_data_cleaned = newsgroups_data_cleaned[good_texts]\n",
    "newsgroups_data_orig = newsgroups_data_orig[good_texts]\n",
    "category_labels = category_labels[good_texts]\n",
    "broad_category_labels = broad_category_labels[good_texts]"
   ]
  },
  {
   "cell_type": "code",
   "execution_count": 26,
   "id": "641f5cdf",
   "metadata": {},
   "outputs": [
    {
     "name": "stdout",
     "output_type": "stream",
     "text": [
      "Specific Categories\n",
      "=====================================\n",
      "{'rec.motorcycles', 'rec.sport.baseball', 'comp.sys.ibm.pc.hardware', 'comp.sys.mac.hardware', 'comp.graphics', 'comp.windows.x', 'rec.sport.hockey'}\n",
      "Broad Categories\n",
      "=====================================\n",
      "{'rec', 'comp'}\n"
     ]
    }
   ],
   "source": [
    "print(\"Specific Categories\")\n",
    "print(\"=====================================\")\n",
    "print(set(category_labels))\n",
    "\n",
    "print(\"Broad Categories\")\n",
    "print(\"=====================================\")\n",
    "print(set(broad_category_labels))"
   ]
  },
  {
   "cell_type": "markdown",
   "id": "c4221d04",
   "metadata": {},
   "source": [
    "Apply the TfidfVectorizer to get a tf-idf representation of the cleaned text\n",
    "- Ignore terms with a document frequency of more than 80% of documents\n",
    "- Ignore terms with a document frequency of less than 5 documents\n",
    "- Only look for single words (unigrams)"
   ]
  },
  {
   "cell_type": "code",
   "execution_count": 27,
   "id": "f85c421d",
   "metadata": {},
   "outputs": [],
   "source": [
    "vectorizer = TfidfVectorizer(max_df = 0.80, min_df = 5, ngram_range = (1, 1))\n",
    "count_vectorizer = CountVectorizer(max_df = 0.80, min_df = 5, ngram_range = (1, 1))\n",
    "vectors = vectorizer.fit_transform(newsgroups_data_cleaned)"
   ]
  },
  {
   "cell_type": "markdown",
   "id": "d2fa40b8",
   "metadata": {},
   "source": [
    "Features obtained by the vectorizer. These are the cleaned and lemmatized words found across all documents. "
   ]
  },
  {
   "cell_type": "code",
   "execution_count": 28,
   "id": "52429f45",
   "metadata": {},
   "outputs": [
    {
     "ename": "AttributeError",
     "evalue": "'TfidfVectorizer' object has no attribute 'get_feature_names_out'",
     "output_type": "error",
     "traceback": [
      "\u001b[0;31m---------------------------------------------------------------------------\u001b[0m",
      "\u001b[0;31mAttributeError\u001b[0m                            Traceback (most recent call last)",
      "\u001b[0;32m<ipython-input-28-c743fe4f60fc>\u001b[0m in \u001b[0;36m<module>\u001b[0;34m\u001b[0m\n\u001b[0;32m----> 1\u001b[0;31m \u001b[0mprint\u001b[0m\u001b[0;34m(\u001b[0m\u001b[0mvectorizer\u001b[0m\u001b[0;34m.\u001b[0m\u001b[0mget_feature_names_out\u001b[0m\u001b[0;34m(\u001b[0m\u001b[0;34m)\u001b[0m\u001b[0;34m)\u001b[0m\u001b[0;34m\u001b[0m\u001b[0;34m\u001b[0m\u001b[0m\n\u001b[0m",
      "\u001b[0;31mAttributeError\u001b[0m: 'TfidfVectorizer' object has no attribute 'get_feature_names_out'"
     ]
    }
   ],
   "source": [
    "print(vectorizer.get_feature_names_out())"
   ]
  },
  {
   "cell_type": "markdown",
   "id": "e9e67f4c",
   "metadata": {},
   "source": [
    "A Pandas dataframe containing the tfidf representation of the words obtained from the documents. It is quite sparse, which is expected. Can you think of other ways to preprocess the data to get additional information? What do you think the effect of looking at bigrams and unigrams would be? "
   ]
  },
  {
   "cell_type": "code",
   "execution_count": 29,
   "id": "e1c98887",
   "metadata": {
    "scrolled": true
   },
   "outputs": [
    {
     "ename": "AttributeError",
     "evalue": "'TfidfVectorizer' object has no attribute 'get_feature_names_out'",
     "output_type": "error",
     "traceback": [
      "\u001b[0;31m---------------------------------------------------------------------------\u001b[0m",
      "\u001b[0;31mAttributeError\u001b[0m                            Traceback (most recent call last)",
      "\u001b[0;32m<ipython-input-29-b79f45d4b2f9>\u001b[0m in \u001b[0;36m<module>\u001b[0;34m\u001b[0m\n\u001b[0;32m----> 1\u001b[0;31m \u001b[0mtfidf_df\u001b[0m \u001b[0;34m=\u001b[0m \u001b[0mpd\u001b[0m\u001b[0;34m.\u001b[0m\u001b[0mDataFrame\u001b[0m\u001b[0;34m(\u001b[0m\u001b[0mvectors\u001b[0m\u001b[0;34m.\u001b[0m\u001b[0mtodense\u001b[0m\u001b[0;34m(\u001b[0m\u001b[0;34m)\u001b[0m\u001b[0;34m,\u001b[0m \u001b[0mcolumns\u001b[0m \u001b[0;34m=\u001b[0m \u001b[0mvectorizer\u001b[0m\u001b[0;34m.\u001b[0m\u001b[0mget_feature_names_out\u001b[0m\u001b[0;34m(\u001b[0m\u001b[0;34m)\u001b[0m\u001b[0;34m)\u001b[0m\u001b[0;34m\u001b[0m\u001b[0;34m\u001b[0m\u001b[0m\n\u001b[0m\u001b[1;32m      2\u001b[0m \u001b[0mprint\u001b[0m\u001b[0;34m(\u001b[0m\u001b[0mtfidf_df\u001b[0m\u001b[0;34m)\u001b[0m\u001b[0;34m\u001b[0m\u001b[0;34m\u001b[0m\u001b[0m\n",
      "\u001b[0;31mAttributeError\u001b[0m: 'TfidfVectorizer' object has no attribute 'get_feature_names_out'"
     ]
    }
   ],
   "source": [
    "tfidf_df = pd.DataFrame(vectors.todense(), columns = vectorizer.get_feature_names_out())\n",
    "print(tfidf_df)"
   ]
  },
  {
   "cell_type": "markdown",
   "id": "d25a427f",
   "metadata": {},
   "source": [
    "# 2. Clustering"
   ]
  },
  {
   "cell_type": "markdown",
   "id": "55ae7711",
   "metadata": {},
   "source": [
    "## KMeans \n",
    "\n",
    "KMeans is a clustering alogrithm that assumes quite a bit about the underlying structure of the data (e.g. is it spherical in nature), and only lets us use Euclidean distance, but there's a lot we can do with it. For more information on K-Means, see this link: https://en.wikipedia.org/wiki/K-means_clustering. For documentation on the KMeans package that we are using follow this link: [scikit-learn KMeans](https://scikit-learn.org/stable/modules/generated/sklearn.cluster.KMeans.html?highlight=kmeans#sklearn.cluster.KMeans)\n",
    "\n",
    "To start off, we'll cluster the data using a number of clusters equal to the number of broad categories and look at the results. A convenience function has been provided which will return a tabulation of two factors (cluster labels and true labels) and the homogenieity score (the degree to which observations in a cluster share the same true label). "
   ]
  },
  {
   "cell_type": "code",
   "execution_count": 23,
   "id": "65776707",
   "metadata": {},
   "outputs": [],
   "source": [
    "def get_cluster_results(cluster_labels, true_labels):\n",
    "    # make a cross tab of the labels and broad categories\n",
    "    cross_tab = pd.crosstab(true_labels, cluster_labels)\n",
    "    \n",
    "    # calculate homogenieity score\n",
    "    h_score = homogeneity_score(true_labels, cluster_labels)\n",
    "    return cross_tab, h_score"
   ]
  },
  {
   "cell_type": "code",
   "execution_count": 24,
   "id": "237ffbe2",
   "metadata": {},
   "outputs": [],
   "source": [
    "kmeans = KMeans(n_clusters = len(set(broad_category_labels)), random_state = 0)\n",
    "kmeans.fit(vectors.toarray())\n",
    "kmeans_labels = kmeans.labels_"
   ]
  },
  {
   "cell_type": "code",
   "execution_count": 25,
   "id": "834a0152",
   "metadata": {},
   "outputs": [
    {
     "name": "stdout",
     "output_type": "stream",
     "text": [
      "col_0     0     1\n",
      "row_0            \n",
      "comp     45  1813\n",
      "rec    1228    53\n",
      "======================\n",
      "Homogeneity Score: 0.79\n"
     ]
    }
   ],
   "source": [
    "cross_tab, h_score = get_cluster_results(kmeans_labels, broad_category_labels)\n",
    "print(cross_tab)\n",
    "print(\"======================\")\n",
    "print('Homogeneity Score: {:.2f}'.format(h_score))"
   ]
  },
  {
   "cell_type": "markdown",
   "id": "a2e5cfe6",
   "metadata": {},
   "source": [
    "As you can see, most of the items in each cluster belong to a single broad category of texts. This score is quite good, can it be improved upon? A convenience function has been provided to print the documents for a single cluster. "
   ]
  },
  {
   "cell_type": "code",
   "execution_count": 26,
   "id": "fc1e8e89",
   "metadata": {},
   "outputs": [],
   "source": [
    "def print_cluster_documents(cluster_labels, cluster, documents, n_documents = 10, n_chars = 500, random_seed = 0, true_labels = None):\n",
    "    np.random.seed(random_seed)\n",
    "    random_idxs = np.random.choice(np.where(cluster_labels == cluster)[0], size = n_documents, replace = False)\n",
    "    for i, idx in enumerate(random_idxs, 1):\n",
    "        if true_labels is not None:\n",
    "            print(\"Document {}, (true = {}):\".format(i, true_labels[idx]))\n",
    "        else:\n",
    "            print(\"Document {}:\".format(i))\n",
    "        print(\"===========================================================\")\n",
    "        print(\"\".join([documents[idx].strip()[:n_chars], '....']).strip(), '\\n')"
   ]
  },
  {
   "cell_type": "markdown",
   "id": "439a17d2",
   "metadata": {},
   "source": [
    "Print several documents for each cluster"
   ]
  },
  {
   "cell_type": "code",
   "execution_count": 27,
   "id": "ebc83ebe",
   "metadata": {
    "scrolled": true
   },
   "outputs": [
    {
     "name": "stdout",
     "output_type": "stream",
     "text": [
      "Cluster 0\n",
      "Document 1, (true = comp):\n",
      "===========================================================\n",
      "glad write got flamed along begged crosspost nonsense article problem crossposting first poster aware posting crossposting else one never know interested people stay split newsgroups brings even crossposting jan holler bern switzerland good good enough make better holli holler aug adsp sub org second chance holler iamexwi unibe.... \n",
      "\n",
      "Document 2, (true = rec):\n",
      "===========================================================\n",
      "event impact gaetti career leg injury performance dropped radically still twin look stats offensive defensive never come back pre injury level.... \n",
      "\n",
      "Document 3, (true = rec):\n",
      "===========================================================\n",
      "buck showalter win bob wickman pitching game life eight inning yank lead buck decides let kid try get first complete game wickman manages get two out four fun score sudden wickman get third buck bullpen farr get first guy face last night jimmy key pitching another long string game life guy keep getting better eight inning yank lead time buck think want repeat near fiasco wickman give bullpen work steve howe whose era coming game left good farr come give two run homer royal win going already thir.... \n",
      "\n",
      "Document 4, (true = rec):\n",
      "===========================================================\n",
      "everyone keep talking european expansion thinking wishful thought totally ball league format use incompatible europe know best team lower division get promoted worst get demoted would european fan put paid play attitude long would support team run ranger based corporate thinking use term lightly need good product duffuses nyc would fill arena ottawa record every year haha sorry say hockey pro sport similar system europe maybe team like ranger would forced compete get demoted fourth division many.... \n",
      "\n",
      "Document 5, (true = rec):\n",
      "===========================================================\n",
      "multipurpose subject let forget shea designed accommodate mets jet first stadium think box seat roller could oriented right angle baseball parallel football course jet gone jersey truly good football stadium mets saddled multipurpose stadium circular seat almost always far action mets announcer kiner murphy particular always hyped beautiful shea stadium tipoff unbeautiful truly.... \n",
      "\n",
      "Document 6, (true = rec):\n",
      "===========================================================\n",
      "hey pretty new wonderful world motorcycle bought used kaw csr friend wondering kind saddle bag could get since know nothing bag gas tank much would cost much hold thanks advice may new riding love already.... \n",
      "\n",
      "Document 7, (true = rec):\n",
      "===========================================================\n",
      "yes unfortunately also concept owner car responsible action authorized user car one biggest argument photo radar ticketing system trouble recourse issued ticket clerical error computer follow around city chicago informal motto city work issue dozen parking ticket year people never set foot tire city.... \n",
      "\n",
      "Document 8, (true = rec):\n",
      "===========================================================\n",
      "good mussina better sutcliffe mcdonald bullpen steinbrenner charge got talent starter evetually ace higher ranked generally better prospect arthur rhodes happens well hey oriole starter militello still early.... \n",
      "\n",
      "Document 9, (true = rec):\n",
      "===========================================================\n",
      "heard perhaps incorrectly lemieux noone wore jersey took turn captain duty whatever scott scott mark launchpad unc edu scott mark launchpad unc edu.... \n",
      "\n",
      "Document 10, (true = rec):\n",
      "===========================================================\n",
      "course penalty changed roughing chauvanistic male aggressive slashing chauvanistic male venting frustration fighting proof male can not cope feeling since penalty fall three class three penalty foul illegal contact player stick body stick get game unsportsmanlike contact intentional foul inlcludes current flavour roughing fighting boarding get two thrown game fined technical foul bad mouthing ref player coach penalty shot awarded two thrown game besides penalty shot one technical team get penalt.... \n",
      "\n",
      "\n",
      "---------------------------------------------------------------\n",
      "Cluster 1\n",
      "Document 1, (true = comp):\n",
      "===========================================================\n",
      "heard two package support win first linux free unix package second appeal sound pretty good found garbo uwusa ftp demo dir file xapexe zip xapfon zip driver zip get started josh.... \n",
      "\n",
      "Document 2, (true = comp):\n",
      "===========================================================\n",
      "problem likely user experiencing thanks one adventurous usenet reader sorry remember guy name somebody please post deserves credit saving easily fixed problem.... \n",
      "\n",
      "Document 3, (true = comp):\n",
      "===========================================================\n",
      "got old demo disk need view made using rix softworks file two diskette set end scf demo vga resolution color know spatial resolution first problem try run demo screen two black bar cut across horizontally screen top third bottom third screen bar inch wide demo animation part seems running fine second problem find graphic program open display file couple image conversion program none mention scf file system using clone diamond speedstar sony monitor suggestion.... \n",
      "\n",
      "Document 4, (true = comp):\n",
      "===========================================================\n",
      "reader found cache upgrade option mac iisi include following quicksilver daystar fastcache iisi daystar combocache iisi logicache iisi cache interested hearing opinion option alternative upgrade cpu accelerator logicache mhz idea comparisions.... \n",
      "\n",
      "Document 5, (true = comp):\n",
      "===========================================================\n",
      "mean damn henrik attempt helpful using common misconception corrected mach banding occur image color quantization see enough bit human eye response transition edge intensity result color near transistion look brighter brighter side darker darker side andre.... \n",
      "\n",
      "Document 6, (true = comp):\n",
      "===========================================================\n",
      "documentation say wordperfect window requires ram try install laptop get enough memory error message unloaded everything possibly could still enough memory anyone idea might happening.... \n",
      "\n",
      "Document 7, (true = comp):\n",
      "===========================================================\n",
      "understanding format magneto optical disc formatting software installs driver disc insert disc different drive driver loaded computer memory control drive driver incompatible drive disc mounted properly read written correct.... \n",
      "\n",
      "Document 8, (true = comp):\n",
      "===========================================================\n",
      "working project provide emergency management information system keeping classic command control type system considering developing dual screen monitor system order provide status board monitor number level question regarding devloping unix system using motif platform predominantly sun probably port well assuming standard dual monitor system configured talking one display multiple screen multiple display given changing input focus one screen simple tracking mouse one screen nothing special need d.... \n",
      "\n",
      "Document 9, (true = comp):\n",
      "===========================================================\n",
      "fiw optimized window power screen blanker appears power turn computer meet swedish standard also protected emi adjacent monitor.... \n",
      "\n",
      "Document 10, (true = comp):\n",
      "===========================================================\n",
      "even bit truecolor machine case running emulated bit pseudocolor visual get standard client motif apps thelike run strongly suppose emulate least make big misfit pixel index conversion stuff furthermore run default screen visual.... \n",
      "\n"
     ]
    }
   ],
   "source": [
    "for i, c in enumerate(np.unique(kmeans_labels)):\n",
    "    print(\"Cluster {}\".format(c))\n",
    "    print_cluster_documents(kmeans_labels, c, newsgroups_data_cleaned, true_labels = broad_category_labels)\n",
    "    if i != len(set(kmeans_labels)) - 1:\n",
    "        print(\"\\n---------------------------------------------------------------\")"
   ]
  },
  {
   "cell_type": "markdown",
   "id": "69380874",
   "metadata": {},
   "source": [
    "### Results\n",
    "\n",
    "So far, the clusters look fairly representative and homogeneous regarding the topics. Let's look at the contents of each cluster: \n",
    "- Cluster 0: Mostly contains computer related documents. We see words like 'computer', 'zip', 'directory', 'monitor', and other words generally related to computing. \n",
    "- Cluster 1: Mostly contains sports related documents. We see things like partial sports teams names ('sox', 'brown', 'jagr'), words commonly associated with sports ('player', 'team', 'game', 'coach'). "
   ]
  },
  {
   "cell_type": "markdown",
   "id": "d650c444",
   "metadata": {},
   "source": [
    "## Hierarchical (Agglomerative) clustering\n",
    "\n",
    "There are two versions of hierarchical clustering, agglomerative and divisive clustering. As the namesakes imply, one starts with all the data in individual clusters while the other starts off with all data in a single cluster. A choice of distance metrics to measure the distance between two points and methods to link two clusters together need to be specified, but the defaults for the agglomerative clustering below are Euclidean distance and ward linkage. \n",
    "\n",
    "For more information on ward linkage (variance minimzation): https://en.wikipedia.org/wiki/Ward%27s_method\n",
    "\n",
    "Documentation for the package used for Agglomerative Clustering can be found here: [scikit-learn Agglomerative Clustering](https://scikit-learn.org/stable/modules/generated/sklearn.cluster.AgglomerativeClustering.html?highlight=agglomerative#sklearn.cluster.AgglomerativeClustering)"
   ]
  },
  {
   "cell_type": "code",
   "execution_count": 28,
   "id": "92b63f16",
   "metadata": {},
   "outputs": [
    {
     "name": "stdout",
     "output_type": "stream",
     "text": [
      "col_0     0    1\n",
      "row_0           \n",
      "comp   1814   44\n",
      "rec     425  856\n",
      "======================\n",
      "Homogeneity Score: 0.40\n"
     ]
    }
   ],
   "source": [
    "hier = AgglomerativeClustering(n_clusters = len(set(broad_category_labels)))\n",
    "hier.fit(vectors.toarray())\n",
    "hier_labels = hier.labels_\n",
    "\n",
    "# make a cross tab of the labels and broad categories\n",
    "cross_tab, h_score = get_cluster_results(hier_labels, broad_category_labels)\n",
    "print(cross_tab)\n",
    "print(\"======================\")\n",
    "print('Homogeneity Score: {:.2f}'.format(h_score))"
   ]
  },
  {
   "cell_type": "code",
   "execution_count": 29,
   "id": "f049bb9d",
   "metadata": {
    "scrolled": true
   },
   "outputs": [
    {
     "name": "stdout",
     "output_type": "stream",
     "text": [
      "Cluster 0\n",
      "Document 1, (true = comp):\n",
      "===========================================================\n",
      "one tell prong basic chip number realize chunk chip missing one orient correctly using hole guide count prong chip find please help.... \n",
      "\n",
      "Document 2, (true = rec):\n",
      "===========================================================\n",
      "wetteland come april evaluated throwing well without pain side deshields suffered chicken pox lost official total pound back hopefully next week walker back tonight tomorrow.... \n",
      "\n",
      "Document 3, (true = comp):\n",
      "===========================================================\n",
      "recently obtained copy colorxterm export lcs mit edu seeing mentioned previous article compilation report following undefined symbol getwmshellwidgetclass getapplicationshellwidgetclass still run sending escape sequence set colour colour come black text black background idea anyone used program colour successfully anyone point colour terminal emulator running openwindows sun sparcs running sunos advathanksnce ben kelley.... \n",
      "\n",
      "Document 4, (true = comp):\n",
      "===========================================================\n",
      "grey level image mean item bit image work work bit screen screen intensity non linear bit per pixel could timing give level linear screen intensity linear work find best compinations level choises best must chosen different compinations level varies bit level keep order reader verify wrote.... \n",
      "\n",
      "Document 5, (true = comp):\n",
      "===========================================================\n",
      "need massage switch system ini virtual memory section flip bitaccess switch associated driver wdctl switch enable bit access sure use hard drive controller support seriously fast disk access throw windoze install weekend incredible finally real humble.... \n",
      "\n",
      "Document 6, (true = comp):\n",
      "===========================================================\n",
      "need information display postscript strokeadjust feature feature adjusts endpoint line displayed line look better low resolution device postscript literature explains process extent also give example emulate strokeadjust postscript environment absent suggested emulation modify coordinate endpoint line using following formula coordinate newcoord round oldcoord end coordinate ending reading thought might actually newcoord trunc oldcoord result coordinate ending either whichever closer actual compa.... \n",
      "\n",
      "Document 7, (true = comp):\n",
      "===========================================================\n",
      "many recent advertisement seen based system first really exists imply circuitry motherboard work speed opposite latter internals cpu working mhz many thanx advance andrew andrew yes version mhz considering buying one definitely nice size external cache performance far greater internal cache work mhz potentially much larger cache work mhz neither system could actually run program main memory since dram still slow high bus speed mhz mhz rdd winqwk unregistered evaluation copy kmail net halk ann ar.... \n",
      "\n",
      "Document 8, (true = comp):\n",
      "===========================================================\n",
      "intermediate reply suggesting cable switch deleted hate burst bubble can not slip particular ami bios setting setting allows set boot order floppy respect primary check first check.... \n",
      "\n",
      "Document 9, (true = comp):\n",
      "===========================================================\n",
      "usually use algorithm graphic image processing theodosios pavlidis people got idea copy library stolen another reference digital image processing gonzalez wintz wood widely available little expensive checked today.... \n",
      "\n",
      "Document 10, (true = comp):\n",
      "===========================================================\n",
      "good one anyone know product allows rack mount maybe blow money application music would like able haul around would probably plan get drive something depend internal fixed hard drive may pretty rough internal san francisco bay area matter also anyone info midi would anyone care email price paid price list faq never mind curious difference best retailer local university pricing.... \n",
      "\n",
      "\n",
      "---------------------------------------------------------------\n",
      "Cluster 1\n",
      "Document 1, (true = rec):\n",
      "===========================================================\n",
      "well long folk sharing esteemed wisdom karnak sez west east west east chicago toronto atlanta louis texas new york cincinnati montreal minnesota baltimore houston new york oakland boston los angeles philadelphia seattle detroit san diego pittsburgh kansa city milwaukee san fran chicago california cleveland colorado florida detail follow later pick apart like also anyone still taking entry prediction pool contest could snag mine add list thanks glad opening day make little bit gloom doom weather .... \n",
      "\n",
      "Document 2, (true = rec):\n",
      "===========================================================\n",
      "life simple savard played three last four game still playing like crap montreal problem run deeper savard mouton unfortunately hope get act together playoff line game coming pittsburgh said one likely use playoff let hope forget nice weather play hockey.... \n",
      "\n",
      "Document 3, (true = rec):\n",
      "===========================================================\n",
      "anyone know dick estelle radio reader npr one lefty pitched briefly jints curious paul spending much time reading baseball encyclopedia stretch farm animal beyond natural length paula koufax com paul andresen hewlett packard.... \n",
      "\n",
      "Document 4, (true = rec):\n",
      "===========================================================\n",
      "detroit octopus symbol old day league era original four team made playoff win cup team win two seven game series word took playoff win win cup octopus leg become common detroit symbol every year around playoff time people start sneaking octopus octopus joe louis arena throwing onto ice.... \n",
      "\n",
      "Document 5, (true = comp):\n",
      "===========================================================\n",
      "laserwriter iig disappeared completely network name show zone print serial interface tho seen discussion changing zone iig including code let change zone maybe code use back factory default setting feeling needed heal.... \n",
      "\n",
      "Document 6, (true = rec):\n",
      "===========================================================\n",
      "word roussel shuts shark soderstrom shuts penguin immaterial coach decision come joe think saying played significant played irrelevent low gaa good team better low gaa bad team context comparing two goaltender low gaa better higher gaa low gaa good team much much better higher gaa bad team context comparing two goaltender yes absolutely context comparing two goaltender course end season point point matter get score sheet shutout shutout coach deciding two goalie looking make trade got look deepe.... \n",
      "\n",
      "Document 7, (true = rec):\n",
      "===========================================================\n",
      "going ninth run lead run score runner first second throw drive waaaaaayyyyyyy back puckett wall leap caught ball catch kirby twin win get save line walk hit one robbed home run.... \n",
      "\n",
      "Document 8, (true = rec):\n",
      "===========================================================\n",
      "people send poll take closer look njd deep team two capable goalie excellent forward defensemen shooter richer around todd chef stasny master thousand dish power play captain stevens take look number play see.... \n",
      "\n",
      "Document 9, (true = rec):\n",
      "===========================================================\n",
      "help got friend shopping first motorcycle great unfortunately need seat great far thing found old unhappy looking time tap collective memory denizen anybody know model old model used bike problem lower seat since make difficult would prefer end cruiser bonus point listing tiny standard seem remember thread point similar passing several month ago anybody keep list thanks.... \n",
      "\n",
      "Document 10, (true = rec):\n",
      "===========================================================\n",
      "saying quite time absent net figured stick neck bit royal set record fewest run scored team since inception rule idea fall easily short run damn sure believe medium fool picking win division like tom gage detroit news claiming herk robinson kind genius trade aquisitions made sean.... \n",
      "\n"
     ]
    }
   ],
   "source": [
    "for i, c in enumerate(np.unique(hier_labels)):\n",
    "    print(\"Cluster {}\".format(c))\n",
    "    print_cluster_documents(hier_labels, c, newsgroups_data_cleaned, true_labels = broad_category_labels)\n",
    "    if i != len(set(hier_labels)) - 1:\n",
    "        print(\"\\n---------------------------------------------------------------\")"
   ]
  },
  {
   "cell_type": "markdown",
   "id": "59a44dcf",
   "metadata": {},
   "source": [
    "A convenience function has been provided below to look at the dendrogram, a tree-like structure that lets us visualize how clusters break into subclusters. "
   ]
  },
  {
   "cell_type": "code",
   "execution_count": 30,
   "id": "d38c08bd",
   "metadata": {},
   "outputs": [],
   "source": [
    "from scipy.cluster.hierarchy import dendrogram\n",
    "import matplotlib.pyplot as plt\n",
    "def plot_dendrogram(model, **kwargs):\n",
    "    # Create linkage matrix and then plot the dendrogram\n",
    "\n",
    "    # create the counts of samples under each node\n",
    "    counts = np.zeros(model.children_.shape[0])\n",
    "    n_samples = len(model.labels_)\n",
    "    for i, merge in enumerate(model.children_):\n",
    "        current_count = 0\n",
    "        for child_idx in merge:\n",
    "            if child_idx < n_samples:\n",
    "                current_count += 1  # leaf node\n",
    "            else:\n",
    "                current_count += counts[child_idx - n_samples]\n",
    "        counts[i] = current_count\n",
    "\n",
    "    linkage_matrix = np.column_stack(\n",
    "        [model.children_, model.distances_, counts]\n",
    "    ).astype(float)\n",
    "\n",
    "    # Plot the corresponding dendrogram\n",
    "    dendrogram(linkage_matrix, **kwargs)"
   ]
  },
  {
   "cell_type": "code",
   "execution_count": 31,
   "id": "3a55f7d7",
   "metadata": {},
   "outputs": [],
   "source": [
    "# don't determine cluster number here, will instead compute a distance matrix\n",
    "hier_no_dist = AgglomerativeClustering(distance_threshold=0, n_clusters=None)\n",
    "hier_no_dist.fit(vectors.toarray());"
   ]
  },
  {
   "cell_type": "code",
   "execution_count": 32,
   "id": "315f780c",
   "metadata": {},
   "outputs": [
    {
     "data": {
      "image/png": "[encoded data removed]",
      "text/plain": [
       "<Figure size 1500x800 with 2 Axes>"
      ]
     },
     "metadata": {},
     "output_type": "display_data"
    }
   ],
   "source": [
    "# plot the top 2 levels of the dendrogram\n",
    "f, [ax1, ax2] = plt.subplots(2, 1, figsize = (15, 8))\n",
    "f.suptitle('Hierarchical Clustering Dendrograms', fontsize = 20)\n",
    "plot_dendrogram(hier_no_dist, truncate_mode=\"level\", p=2, ax = ax1)\n",
    "plot_dendrogram(hier_no_dist, truncate_mode=\"level\", p=4, ax = ax2)\n",
    "ax1.set_title('Two Levels')\n",
    "ax2.set_title('Four Levels')\n",
    "plt.tight_layout();"
   ]
  },
  {
   "cell_type": "markdown",
   "id": "377ae7e1",
   "metadata": {},
   "source": [
    "### Results \n",
    "\n",
    "The performance is less than that of K-Means, but the documents appear to be clustered well. Looking above, it looks like two main clusters exist, which likely correspond to the broad categories. Depending on the depth of the dendrogram plotted, you can see how subclusters are being formed within each main cluster. Each cluster is formed according to the height of the dendrogram (see y axis), cutting at different places produces different number of clusters. "
   ]
  },
  {
   "cell_type": "markdown",
   "id": "2d4270ed",
   "metadata": {},
   "source": [
    "# 3. Going Further\n",
    "\n",
    "As you've seen, with proper cleaning and careful choices of hyperparameters, you can cluster documents with clearly defined themes. One thing to note however is that each document belongs to a broad class of categories, but there are more specific categories within each of the broad ones. Algorithms exist (such as hierarchical clustering) which can effectively look for clusters within clusters. "
   ]
  },
  {
   "cell_type": "markdown",
   "id": "026f49aa",
   "metadata": {},
   "source": [
    "# 4. Excercises\n",
    "\n",
    "1. Using the cleaned dataset, for each clustering algorithm, find the the top 10 occurring words in each cluster and how often they occur. Hint: the CountVectorizer object above can be used to do this. Only needs to be done for clustering of broad categories (e.g. computing, recreation). \n",
    "\n",
    "\n",
    "2. For each of the broad categories (computers, recreation), do the following:\n",
    "    a. Determine finer categories within each (e.g. graphics, baseball, hockey, etc.). There's no right or wrong answer here. Use your imagination on this one! \n",
    "    b. Repeat one or both the clustering analyses, while doing the following:\n",
    "        - Print off a cross tab table for each clustering\n",
    "        - Print off the homogeneity score\n",
    "        - Find the top 10 most frequently occuring words in each of these clusters\n",
    "    \n",
    "3. What are some other sources of real world texts that might be useful to cluster (either for yourself, a business, etc.)? Try to come up with at least 5.\n",
    "\n",
    "4. Try testing different configurations and hyper-parameters for both clustering algorithms to try to maximize performance. Reference the documentation provided for each clustering algorithm, as well as this guide on clustering: [scikit-learn Clustering Guide](https://scikit-learn.org/stable/modules/clustering.html)"
   ]
  },
  {
   "cell_type": "code",
   "execution_count": null,
   "id": "2b510846",
   "metadata": {},
   "outputs": [],
   "source": []
  }
 ],
 "metadata": {
  "kernelspec": {
   "display_name": "Python 3.8.8 64-bit ('2021.05-py38-gcc-8.4.1-vrzyh2x')",
   "language": "python",
   "name": "python3"
  },
  "language_info": {
   "codemirror_mode": {
    "name": "ipython",
    "version": 3
   },
   "file_extension": ".py",
   "mimetype": "text/x-python",
   "name": "python",
   "nbconvert_exporter": "python",
   "pygments_lexer": "ipython3",
   "version": "3.8.8"
  },
  "vscode": {
   "interpreter": {
    "hash": "b434a5580bac2dec3ed5ec53208c1d2c7faeaf78a39533c0db2f0c713da62bbc"
   }
  }
 },
 "nbformat": 4,
 "nbformat_minor": 5
}
